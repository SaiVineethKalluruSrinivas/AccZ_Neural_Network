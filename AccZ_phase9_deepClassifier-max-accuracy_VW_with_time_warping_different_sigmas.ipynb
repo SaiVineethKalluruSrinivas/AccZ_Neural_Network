{
 "cells": [
  {
   "cell_type": "code",
   "execution_count": 1,
   "metadata": {},
   "outputs": [
    {
     "name": "stdout",
     "output_type": "stream",
     "text": [
      "(20, 50001)\n",
      "[0.04913539 0.0478669  0.05771144 ... 0.16863332 0.05331072 0.04423187]\n",
      "(50000,)\n",
      "1.0\n"
     ]
    }
   ],
   "source": [
    "%matplotlib inline\n",
    "import torch\n",
    "import random\n",
    "import torch.nn as nn\n",
    "import pandas as pd\n",
    "import numpy as np\n",
    "from torchvision import transforms\n",
    "import torch.optim as optim\n",
    "from torch.utils.data import Dataset, DataLoader\n",
    "from PIL import Image\n",
    "from torch import autograd\n",
    "from torch.autograd import Variable\n",
    "from torchvision.utils import make_grid\n",
    "import matplotlib.pyplot as plt\n",
    "import scipy.io as sio\n",
    "from sklearn.model_selection import train_test_split\n",
    "from scipy.interpolate import CubicSpline      \n",
    "from transforms3d.axangles import axangle2mat  \n",
    "\n",
    "\n",
    "\n",
    "data = sio.loadmat('./SBSB_6Khz_L23Mat_accZY_chunk_noTurn_noStatic.mat')\n",
    "\n",
    "\n",
    "class AccZDataset(Dataset):\n",
    "    def __init__(self,start_no,range_len):\n",
    "        data = sio.loadmat('./SBSB_6Khz_L23Mat_accZY_chunk_noTurn_noStatic.mat')\n",
    "        self.start_no = start_no\n",
    "        self.range_len = range_len\n",
    "        self.data_set = data['L23MatChunk']\n",
    "        self.n_trails = len(self.data_set)\n",
    "        self.train_set = np.zeros((1,50000))\n",
    "        \n",
    "        for i in range (0,self.n_trails):\n",
    "            curr = np.asarray(self.data_set[i][0][0][self.start_no : self.start_no+self.range_len]).reshape(1,self.range_len)\n",
    "            self.train_set = np.append(self.train_set, curr, axis = 0)\n",
    "\n",
    "        self.train_set = np.delete(self.train_set, (0), axis=0) #array of 20 * 50000\n",
    "        \n",
    "        labels = []\n",
    "        for i in range(0, self.n_trails):\n",
    "            if(i < 10):\n",
    "                labels.append(0)\n",
    "            else:\n",
    "                labels.append(1)\n",
    "        \n",
    "        labels = np.asarray(labels).reshape(self.n_trails,1)\n",
    "        self.train_set = np.append(self.train_set, labels, axis = 1)\n",
    "        print(self.train_set.shape)\n",
    "    def __len__(self):\n",
    "        return len(self.train_set)\n",
    "\n",
    "    def __getitem__(self, idx):\n",
    "        \n",
    "        sample = self.train_set[idx][:-1]\n",
    "        label = self.train_set[idx][-1]\n",
    "\n",
    "        return sample, label \n",
    "\n",
    "\n",
    "\n",
    "dataset = AccZDataset(20,50000)\n",
    "real_value, real_label = dataset[13]\n",
    "print(real_value)\n",
    "print(real_value.shape)\n",
    "print(real_label)\n",
    "\n",
    "\n"
   ]
  },
  {
   "cell_type": "markdown",
   "metadata": {},
   "source": [
    "# DATASET PREPARATION FOR TRAINING DATASET"
   ]
  },
  {
   "cell_type": "code",
   "execution_count": 2,
   "metadata": {},
   "outputs": [
    {
     "name": "stdout",
     "output_type": "stream",
     "text": [
      "Features numpy (20, 50000)\n",
      "Targets numpy (20,)\n"
     ]
    }
   ],
   "source": [
    "#DATASET PREPERATION\n",
    "\n",
    "\n",
    "data = sio.loadmat('./SBSB_6Khz_L23Mat_accZY_chunk_noTurn_noStatic.mat')\n",
    "start_no = 0\n",
    "range_len = 50000\n",
    "data_set = data['L23MatChunk']\n",
    "n_trials = len(data_set)\n",
    "total_set = np.zeros((1,50000))\n",
    "\n",
    "for i in range (20):\n",
    "\n",
    "    curr = np.asarray(data_set[i][0][0][start_no : start_no+range_len]).reshape(1,range_len)\n",
    "    total_set = np.append(total_set, curr, axis = 0)\n",
    "\n",
    "total_set = np.delete(total_set, (0), axis=0) \n",
    "\n",
    "labels = []\n",
    "for i in range(0, n_trials):\n",
    "    if(i < 10):\n",
    "        labels.append(0)\n",
    "    else:\n",
    "        labels.append(1)\n",
    "\n",
    "labels = np.asarray(labels).reshape(n_trials,1)\n",
    "total_set = np.append(total_set, labels, axis = 1)\n",
    "targets_numpy = total_set[:,-1]\n",
    "features_numpy = total_set[:,:-1]\n",
    "print(\"Features numpy {}\".format(features_numpy.shape))\n",
    "print(\"Targets numpy {}\".format(targets_numpy.shape))"
   ]
  },
  {
   "cell_type": "markdown",
   "metadata": {},
   "source": [
    "## DATASET PREPARATION FOR TESTING DATASET"
   ]
  },
  {
   "cell_type": "code",
   "execution_count": 3,
   "metadata": {},
   "outputs": [
    {
     "name": "stdout",
     "output_type": "stream",
     "text": [
      "Features numpy (21, 50000)\n",
      "Targets numpy (21,)\n"
     ]
    }
   ],
   "source": [
    "vw_data = sio.loadmat('./VWVW_6Khz_L23Mat_accZY_chunk_noTurn_noStatic.mat')\n",
    "vw_start_no = 0\n",
    "vw_range_len = 50000\n",
    "vw_data_set = data['L23MatChunk']\n",
    "vw_n_trials = len(data_set)\n",
    "vw_total_set = np.zeros((1,50000))\n",
    "\n",
    "for i in range (20):\n",
    "\n",
    "    vw_curr = np.asarray(vw_data_set[i][0][0][vw_start_no : vw_start_no + vw_range_len]).reshape(1,vw_range_len)\n",
    "    vw_total_set = np.append(vw_total_set, vw_curr, axis = 0)\n",
    "\n",
    "vw_total_set = np.delete(vw_total_set, (0), axis=0) \n",
    "\n",
    "vw_labels = []\n",
    "for i in range(0, vw_n_trials):\n",
    "    if(i < 10):\n",
    "        vw_labels.append(0)\n",
    "    else:\n",
    "        vw_labels.append(1)\n",
    "\n",
    "vw_labels = np.asarray(vw_labels).reshape(vw_n_trials,1)\n",
    "vw_total_set = np.append(vw_total_set, vw_labels, axis = 1)\n",
    "\n",
    "vw_total_set = np.append(vw_total_set, vw_total_set[0,:].reshape(1,-1), axis = 0)\n",
    "vw_targets_numpy = vw_total_set[:,-1]\n",
    "vw_features_numpy = vw_total_set[:,:-1]\n",
    "print(\"Features numpy {}\".format(vw_features_numpy.shape))\n",
    "print(\"Targets numpy {}\".format(vw_targets_numpy.shape))"
   ]
  },
  {
   "cell_type": "markdown",
   "metadata": {},
   "source": [
    "# data augmentation for testing dataset"
   ]
  },
  {
   "cell_type": "code",
   "execution_count": 9,
   "metadata": {},
   "outputs": [],
   "source": [
    "def GenerateRandomCurves(X, sigma=0.2, knot=4):\n",
    "    xx = (np.ones((X.shape[1],1))*(np.arange(0,X.shape[0], (X.shape[0]-1)/(knot+1)))).transpose()\n",
    "    yy = np.random.normal(loc=1.0, scale=sigma, size=(knot+2, X.shape[1]))\n",
    "    x_range = np.arange(X.shape[0])\n",
    "    cs_x = CubicSpline(xx[:,0], yy[:,0])\n",
    "    cs_y = CubicSpline(xx[:,1], yy[:,1])\n",
    "    cs_z = CubicSpline(xx[:,2], yy[:,2])\n",
    "    return np.array([cs_x(x_range),cs_y(x_range),cs_z(x_range)]).transpose()"
   ]
  },
  {
   "cell_type": "code",
   "execution_count": 10,
   "metadata": {},
   "outputs": [],
   "source": [
    "sigma = 0.3\n",
    "knot = 4"
   ]
  },
  {
   "cell_type": "code",
   "execution_count": 11,
   "metadata": {},
   "outputs": [],
   "source": [
    "def DistortTimesteps(X, sigma=0.2):\n",
    "    tt = GenerateRandomCurves(X, sigma) # Regard these samples aroun 1 as time intervals\n",
    "    tt_cum = np.cumsum(tt, axis=0)        # Add intervals to make a cumulative graph\n",
    "    # Make the last value to have X.shape[0]\n",
    "    t_scale = [(X.shape[0]-1)/tt_cum[-1,0],(X.shape[0]-1)/tt_cum[-1,1],(X.shape[0]-1)/tt_cum[-1,2]]\n",
    "    tt_cum[:,0] = tt_cum[:,0]*t_scale[0]\n",
    "    tt_cum[:,1] = tt_cum[:,1]*t_scale[1]\n",
    "    tt_cum[:,2] = tt_cum[:,2]*t_scale[2]\n",
    "    return tt_cum"
   ]
  },
  {
   "cell_type": "code",
   "execution_count": 12,
   "metadata": {},
   "outputs": [],
   "source": [
    "def DA_TimeWarp(X, sigma=0.2):\n",
    "    tt_new = DistortTimesteps(X, sigma)\n",
    "    X_new = np.zeros(X.shape)\n",
    "    x_range = np.arange(X.shape[0])\n",
    "    X_new[:,0] = np.interp(x_range, tt_new[:,0], X[:,0])\n",
    "    X_new[:,1] = np.interp(x_range, tt_new[:,1], X[:,1])\n",
    "    X_new[:,2] = np.interp(x_range, tt_new[:,2], X[:,2])\n",
    "    return X_new"
   ]
  },
  {
   "cell_type": "code",
   "execution_count": 13,
   "metadata": {},
   "outputs": [
    {
     "data": {
      "image/png": "[encoded data removed]",
      "text/plain": [
       "<Figure size 1080x288 with 8 Axes>"
      ]
     },
     "metadata": {
      "needs_background": "light"
     },
     "output_type": "display_data"
    }
   ],
   "source": [
    "fig = plt.figure(figsize=(15,4))\n",
    "for ii in range(8):\n",
    "    ax = fig.add_subplot(2,4,ii+1)\n",
    "    outputs = DA_TimeWarp(vw_features_numpy.T[:,:3], sigma)\n",
    "    ax.plot(outputs[:,0])\n",
    "    ax.set_xlim([0,3600])\n",
    "    ax.set_ylim([-1.5,1.5])"
   ]
  },
  {
   "cell_type": "code",
   "execution_count": 14,
   "metadata": {},
   "outputs": [
    {
     "name": "stdout",
     "output_type": "stream",
     "text": [
      "Testing features shape (42, 50000)\n",
      "testing targets shape (42,)\n"
     ]
    }
   ],
   "source": [
    "#implementation of time warping\n",
    "vw_features_numpy_new = vw_features_numpy.T\n",
    "vw_features_numpy_test = vw_features_numpy\n",
    "vw_targets_numpy_test = vw_targets_numpy\n",
    "n_sets_time_warping = 1\n",
    "\n",
    "\n",
    "for j in range (n_sets_time_warping):\n",
    "    for i in range(0,21,3):\n",
    "        ip = vw_features_numpy_new[:,i:i+3]\n",
    "        vw_features_numpy_test = np.append(vw_features_numpy_test, DA_TimeWarp(ip, sigma).T , axis = 0)\n",
    "    vw_targets_numpy_test = np.append(vw_targets_numpy_test, vw_targets_numpy_test[:], axis = 0)\n",
    "\n",
    "vw_features_numpy = vw_features_numpy_test\n",
    "vw_targets_numpy = vw_targets_numpy_test\n",
    "print(\"Testing features shape {}\".format(vw_features_numpy.shape))\n",
    "print(\"testing targets shape {}\".format(vw_targets_numpy.shape))\n",
    "    "
   ]
  },
  {
   "cell_type": "markdown",
   "metadata": {},
   "source": [
    "## data augmentation for training dataset"
   ]
  },
  {
   "cell_type": "code",
   "execution_count": 10,
   "metadata": {},
   "outputs": [
    {
     "name": "stdout",
     "output_type": "stream",
     "text": [
      "Original FeaturesNumpy Database\n",
      "(20, 50000)\n",
      "Original TargetsNumpy Database\n",
      "(20,)\n",
      "FeaturesNumpy Output shape after jittering\n",
      "(460, 50000)\n",
      "TargetsNumpy Output shape after jittering\n",
      "(460,)\n",
      "FeaturesNumpy Output shape after magwarping\n",
      "(900, 50000)\n",
      "TargetsNumpy Output shape after magwarping\n",
      "(900,)\n",
      "[[1.66286693 1.67694515 1.80243266 ... 1.38862542 1.38343504 1.53286842]]\n",
      "FeaturesNumpy Output shape after rotation\n",
      "(1340, 50000)\n",
      "TargetsNumpy Output shape after rotation\n",
      "(1340,)\n"
     ]
    }
   ],
   "source": [
    "#DATA AUGMENTATION\n",
    "#SINGLE KERNEL \n",
    "\n",
    "from scipy.interpolate import CubicSpline\n",
    "\n",
    "features_numpy_new = features_numpy.T\n",
    "\n",
    "print('Original FeaturesNumpy Database')\n",
    "print(features_numpy.shape)\n",
    "print('Original TargetsNumpy Database')\n",
    "print(targets_numpy.shape)\n",
    "\n",
    "\n",
    "#perform jittering\n",
    "def DA_Jitter(X, sigma= 0.05):\n",
    "    myNoise = np.random.normal(loc=0, scale=sigma, size=X.shape)\n",
    "    return X+myNoise\n",
    "\n",
    "#perform scaling\n",
    "def DA_Scaling(X, sigma=0.1):\n",
    "    scalingFactor = np.random.normal(loc=1.0, scale=sigma, size=(1,X.shape[1])) # shape=(1,3)\n",
    "    myNoise = np.matmul(np.ones((X.shape[0],1)), scalingFactor)\n",
    "    return X*myNoise\n",
    "\n",
    "#perform magnitude warping \n",
    "def GenerateRandomCurves(X, sigma=0.2, knot=4):\n",
    "    xx = (np.ones((X.shape[1],1))*(np.arange(0,X.shape[0], (X.shape[0]-1)/(knot+1)))).transpose()\n",
    "    yy = np.random.normal(loc=1.0, scale=sigma, size=(knot+2, X.shape[1]))\n",
    "    x_range = np.arange(X.shape[0])\n",
    "    cs_x = CubicSpline(xx[:,0], yy[:,0])\n",
    "    return np.array([cs_x(x_range)]).transpose()\n",
    "\n",
    "def DA_MagWarp(X, sigma):\n",
    "    return X * GenerateRandomCurves(X, sigma)\n",
    "\n",
    "#performing Rotation\n",
    "percent_value = 1\n",
    "percent_shift = (range_len / 100) * percent_value\n",
    "def DA_Rotation(X):\n",
    "    shift = np.random.randint(low=0 , high = percent_shift) #giving percent_value shift (if percent_value is 1, then 1% shift)\n",
    "    return np.roll(X, shift)\n",
    "\n",
    "\n",
    "\n",
    "\n",
    "#implement jittering\n",
    "n_sets_jitter = 22\n",
    "sigma = [0.1,0.2,0.3,0.4,0.5,0.6,0.7,0.8,0.9,1.0,0.5,0.15,0.25,0.35,0.45,0.55,0.65,0.75,0.85,0.95,0.31,0.57]\n",
    "#number of values in sigma list should match the n_sets_jitter value\n",
    "for j in range (n_sets_jitter):\n",
    "    for i in range(20):\n",
    "        features_numpy = np.append(features_numpy, DA_Jitter(features_numpy_new[:,i], sigma[j]).reshape(1,-1), axis = 0)\n",
    "    targets_numpy = np.append(targets_numpy, targets_numpy[0:20], axis = 0)\n",
    "\n",
    "\n",
    "\n",
    "print('FeaturesNumpy Output shape after jittering')\n",
    "print(features_numpy.shape)\n",
    "print('TargetsNumpy Output shape after jittering')\n",
    "print(targets_numpy.shape)\n",
    "\n",
    "# #implement scaling\n",
    "# features_numpy_new = features_numpy.T\n",
    "# n_sets_scaling = 22\n",
    "# sigma = [0.2,0.5,0.3,0.4,0.2,0.6,0.8,0.9,0.1,0.7,0.15,0.25,0.35,0.45,0.55,0.65,0.75,0.85,0.95,0.31,0.57,0.73]\n",
    "\n",
    "\n",
    "# for j in range (n_sets_scaling):\n",
    "#     for i in range(20):\n",
    "#         features_numpy = np.append(features_numpy, DA_Scaling(features_numpy_new[:,0].reshape(-1,1), sigma[j]).reshape(1,-1), axis = 0)\n",
    "#     targets_numpy = np.append(targets_numpy, targets_numpy[0:20], axis = 0)\n",
    "    \n",
    "\n",
    "# print('FeaturesNumpy Output shape after scaling')\n",
    "# print(features_numpy.shape)\n",
    "# print('TargetsNumpy Output shape after scaling')\n",
    "# print(targets_numpy.shape)\n",
    "\n",
    "\n",
    "#implement magnitude warping\n",
    "features_numpy_new = features_numpy.T\n",
    "n_sets_magwarp = 22\n",
    "sigma = [0.1,0.2,0.3,0.4,0.5,0.6,0.7,0.8,0.9,1.0,0.5,0.15,0.25,0.35,0.45,0.55,0.65,0.75,0.85,0.95,0.31,0.57]\n",
    "#number of values in sigma list should match the n_sets_jitter value\n",
    "for j in range (n_sets_magwarp):\n",
    "    for i in range(20):\n",
    "        features_numpy = np.append(features_numpy, DA_MagWarp(features_numpy_new[:,i].reshape(-1,1), sigma[j]).reshape(1,-1), axis = 0)\n",
    "    targets_numpy = np.append(targets_numpy, targets_numpy[0:20], axis = 0)\n",
    "\n",
    "\n",
    "\n",
    "print('FeaturesNumpy Output shape after magwarping')\n",
    "print(features_numpy.shape)\n",
    "print('TargetsNumpy Output shape after magwarping')\n",
    "print(targets_numpy.shape)\n",
    "\n",
    "#implement Rotation\n",
    "features_numpy_new = features_numpy.T\n",
    "n_sets_rotation = 22\n",
    "\n",
    "\n",
    "print(DA_Rotation(features_numpy_new[:,i].reshape(-1,1)).reshape(1,-1))\n",
    "\n",
    "for j in range (n_sets_rotation):\n",
    "    for i in range(20):\n",
    "        features_numpy = np.append(features_numpy, DA_Rotation(features_numpy_new[:,i].reshape(-1,1)).reshape(1,-1), axis = 0)\n",
    "    targets_numpy = np.append(targets_numpy, targets_numpy[0:20], axis = 0)\n",
    "\n",
    "\n",
    "print('FeaturesNumpy Output shape after rotation')\n",
    "print(features_numpy.shape)\n",
    "print('TargetsNumpy Output shape after rotation')\n",
    "print(targets_numpy.shape)\n"
   ]
  },
  {
   "cell_type": "markdown",
   "metadata": {},
   "source": [
    "## DATASET PREPARATION FOR TRAINING SET"
   ]
  },
  {
   "cell_type": "code",
   "execution_count": 11,
   "metadata": {},
   "outputs": [
    {
     "name": "stdout",
     "output_type": "stream",
     "text": [
      "Training dataset dimensions\n",
      "Shape of Features Train Dataset\n",
      "torch.Size([1072, 50000])\n",
      "Shape of Targets Train Dataset\n",
      "torch.Size([1072])\n",
      "Shape of Features Test Dataset\n",
      "torch.Size([268, 50000])\n",
      "Shape of Targets Test Dataset\n",
      "torch.Size([268])\n"
     ]
    }
   ],
   "source": [
    "#TRAIN AND TEST SPLIT\n",
    "\n",
    "\n",
    "features_train, features_test, targets_train, targets_test = train_test_split(features_numpy,\n",
    "                                                                             targets_numpy,\n",
    "                                                                             test_size = 0.2,\n",
    "                                                                             random_state = 42)\n",
    "\n",
    "\n",
    "\n",
    "featuresTrain = torch.from_numpy(features_train).type(torch.FloatTensor)\n",
    "targetsTrain = torch.from_numpy(targets_train).type(torch.FloatTensor)\n",
    "\n",
    "featuresTest = torch.from_numpy(features_test).type(torch.FloatTensor)\n",
    "targetsTest = torch.from_numpy(targets_test).type(torch.FloatTensor)\n",
    "\n",
    "\n",
    "train = torch.utils.data.TensorDataset(featuresTrain,targetsTrain)\n",
    "test = torch.utils.data.TensorDataset(featuresTest,targetsTest)\n",
    "\n",
    "\n",
    "\n",
    "batch_size = 16\n",
    "batch_size_val = 4\n",
    "\n",
    "train_loader = torch.utils.data.DataLoader(train, batch_size = batch_size, shuffle = False)\n",
    "val_loader = torch.utils.data.DataLoader(test, batch_size = batch_size_val, shuffle = False)\n",
    "\n",
    "\n",
    "print(\"Training dataset dimensions\")\n",
    "print('Shape of Features Train Dataset')\n",
    "print(featuresTrain.size())\n",
    "print('Shape of Targets Train Dataset')\n",
    "print(targetsTrain.size())\n",
    "print('Shape of Features Test Dataset')\n",
    "print(featuresTest.size())\n",
    "print('Shape of Targets Test Dataset')\n",
    "print(targetsTest.size())"
   ]
  },
  {
   "cell_type": "markdown",
   "metadata": {},
   "source": [
    "## DATASET PREPARATION FOR TESTING DATASET"
   ]
  },
  {
   "cell_type": "code",
   "execution_count": 15,
   "metadata": {},
   "outputs": [
    {
     "name": "stdout",
     "output_type": "stream",
     "text": [
      "Dimensions before preparation\n",
      "features dataset shape (42, 50000)\n",
      "Targets dataset shape (42,)\n"
     ]
    }
   ],
   "source": [
    "print(\"Dimensions before preparation\")\n",
    "print(\"features dataset shape {}\".format(vw_features_numpy.shape))\n",
    "print(\"Targets dataset shape {}\".format(vw_targets_numpy.shape))"
   ]
  },
  {
   "cell_type": "code",
   "execution_count": 16,
   "metadata": {},
   "outputs": [
    {
     "name": "stdout",
     "output_type": "stream",
     "text": [
      "Testing dataset dimensions\n",
      "Shape of Features Dataset\n",
      "torch.Size([42, 50000])\n",
      "Shape of Targets Dataset\n",
      "torch.Size([42])\n"
     ]
    }
   ],
   "source": [
    "vw_features = torch.from_numpy(vw_features_numpy).type(torch.FloatTensor)\n",
    "vw_targets = torch.from_numpy(vw_targets_numpy).type(torch.FloatTensor)\n",
    "\n",
    "vw_totalDataset = torch.utils.data.TensorDataset(vw_features,vw_targets)\n",
    "\n",
    "batch_size_test = 3\n",
    "vw_test_loader = torch.utils.data.DataLoader(vw_totalDataset, batch_size = batch_size_test, shuffle = False)\n",
    "\n",
    "\n",
    "print('Testing dataset dimensions')\n",
    "print('Shape of Features Dataset')\n",
    "print(vw_features.size())\n",
    "print('Shape of Targets Dataset')\n",
    "print(vw_targets.size())"
   ]
  },
  {
   "cell_type": "code",
   "execution_count": 4,
   "metadata": {},
   "outputs": [
    {
     "data": {
      "text/plain": [
       "ConvNet(\n",
       "  (layer1): Sequential(\n",
       "    (0): Conv1d(1, 1, kernel_size=(25,), stride=(10,))\n",
       "    (1): ReLU()\n",
       "    (2): BatchNorm1d(1, eps=1e-05, momentum=0.1, affine=True, track_running_stats=True)\n",
       "  )\n",
       "  (layer2): Sequential(\n",
       "    (0): Conv1d(1, 1, kernel_size=(10,), stride=(5,))\n",
       "    (1): ReLU()\n",
       "    (2): BatchNorm1d(1, eps=1e-05, momentum=0.1, affine=True, track_running_stats=True)\n",
       "  )\n",
       "  (layer3): Sequential(\n",
       "    (0): Conv1d(1, 1, kernel_size=(10,), stride=(3,))\n",
       "    (1): ReLU()\n",
       "    (2): BatchNorm1d(1, eps=1e-05, momentum=0.1, affine=True, track_running_stats=True)\n",
       "  )\n",
       "  (avgLayer): AvgPool1d(kernel_size=(10,), stride=(2,), padding=(0,))\n",
       "  (fc1): Linear(in_features=161, out_features=2, bias=True)\n",
       ")"
      ]
     },
     "execution_count": 4,
     "metadata": {},
     "output_type": "execute_result"
    }
   ],
   "source": [
    "\n",
    "#Designing the model\n",
    "\n",
    "filters = 1\n",
    "\n",
    "class ConvNet(nn.Module):\n",
    "    def __init__(self):\n",
    "        super(ConvNet, self).__init__()\n",
    "        self.layer1 = nn.Sequential(\n",
    "            nn.Conv1d(in_channels = 1, out_channels = filters,kernel_size=25, stride=10),\n",
    "            nn.ReLU(),\n",
    "            nn.BatchNorm1d(filters))\n",
    "        self.layer2 = nn.Sequential(\n",
    "            nn.Conv1d(in_channels = filters, out_channels = filters, kernel_size=10, stride=5),\n",
    "            nn.ReLU(),\n",
    "            nn.BatchNorm1d(filters))\n",
    "        self.layer3 = nn.Sequential(\n",
    "            nn.Conv1d(in_channels = filters, out_channels = filters, kernel_size=10, stride=3),\n",
    "            nn.ReLU(),\n",
    "            nn.BatchNorm1d(filters)) # 250\n",
    "        self.avgLayer = nn.AvgPool1d(10, stride = 2)\n",
    "        self.fc1 = nn.Linear(161,2)\n",
    "\n",
    "\n",
    "    def forward(self, x):\n",
    "        out = self.layer1(x)\n",
    "        out = self.layer2(out)\n",
    "        out = self.layer3(out) \n",
    "        out = self.avgLayer(out)\n",
    "        out = self.fc1(out)\n",
    "        return out\n",
    "\n",
    "    def init_hidden(self,batch_size):\n",
    "        hidden = torch.zeros(self.n_layers, batch_size, self.hidden_size)\n",
    "        return Variable(hidden)\n",
    "    \n",
    "    \n",
    "def weights_init(m):\n",
    "    if isinstance(m, nn.Conv1d):\n",
    "        torch.nn.init.xavier_uniform(m.weight.data, nn.init.calculate_gain('relu'))\n",
    "        m.bias.data.zero_()\n",
    "    \n",
    "\n",
    "model = ConvNet()\n",
    "optimizer = optim.SGD(model.parameters(), lr=0.2)\n",
    "criterion = nn.CrossEntropyLoss()\n",
    "model"
   ]
  },
  {
   "cell_type": "code",
   "execution_count": 16,
   "metadata": {},
   "outputs": [
    {
     "name": "stderr",
     "output_type": "stream",
     "text": [
      "/Users/saivineethks/anaconda3/envs/pytorch/lib/python3.6/site-packages/ipykernel_launcher.py:40: UserWarning: nn.init.xavier_uniform is now deprecated in favor of nn.init.xavier_uniform_.\n"
     ]
    },
    {
     "name": "stdout",
     "output_type": "stream",
     "text": [
      "Current Epoch: 0\n"
     ]
    },
    {
     "name": "stderr",
     "output_type": "stream",
     "text": [
      "/Users/saivineethks/anaconda3/envs/pytorch/lib/python3.6/site-packages/ipykernel_launcher.py:66: UserWarning: invalid index of a 0-dim tensor. This will be an error in PyTorch 0.5. Use tensor.item() to convert a 0-dim tensor to a Python number\n"
     ]
    },
    {
     "name": "stdout",
     "output_type": "stream",
     "text": [
      "Iteration: 1  Loss: 0.3857105076313019  Accuracy: 95 %\n",
      "Current Epoch: 1\n",
      "Iteration: 2  Loss: 0.09492093324661255  Accuracy: 97 %\n",
      "Current Epoch: 2\n",
      "Iteration: 3  Loss: 0.017267700284719467  Accuracy: 97 %\n",
      "Current Epoch: 3\n",
      "Iteration: 4  Loss: 0.008398063480854034  Accuracy: 98 %\n",
      "Current Epoch: 4\n",
      "Iteration: 5  Loss: 0.0037425830960273743  Accuracy: 98 %\n"
     ]
    },
    {
     "data": {
      "text/plain": [
       "[<matplotlib.lines.Line2D at 0x12f9ef6a0>]"
      ]
     },
     "execution_count": 16,
     "metadata": {},
     "output_type": "execute_result"
    },
    {
     "data": {
      "image/png": "[encoded data removed]",
      "text/plain": [
       "<Figure size 432x288 with 2 Axes>"
      ]
     },
     "metadata": {
      "needs_background": "light"
     },
     "output_type": "display_data"
    }
   ],
   "source": [
    "# #  training model \n",
    "model.apply(weights_init)\n",
    "num_epochs = 5\n",
    "count = 0\n",
    "loss_list = []\n",
    "iteration_list = []\n",
    "accuracy_list = []\n",
    "n_classes = 2\n",
    "for epoch in range(num_epochs):\n",
    "    print('Current Epoch: {}'.format(epoch))\n",
    "    for i, (samples, targets) in enumerate(train_loader):\n",
    "        \n",
    "        train = Variable(samples.view(batch_size,1,-1))\n",
    "        targets = Variable(targets.type(torch.LongTensor))\n",
    "        \n",
    "\n",
    "        # Clear gradients\n",
    "        optimizer.zero_grad()\n",
    "        \n",
    "        #setting up model for training\n",
    "        model.train()\n",
    "        \n",
    "        # Forward propagation\n",
    "        outputs = model(train)\n",
    "        outputs = outputs.reshape(batch_size,2)\n",
    "        # Calculate softmax and cross entropy loss\n",
    "        loss = criterion(outputs, targets)\n",
    "        \n",
    "        # Calculating gradients\n",
    "        loss.backward()\n",
    "        \n",
    "        # Update parameters\n",
    "        optimizer.step()\n",
    "        \n",
    "    count += 1\n",
    "    #accuracy at the end of epoch    \n",
    "    correct = 0\n",
    "    total = 0\n",
    "    # Predict test dataset\n",
    "    for samples, labels in val_loader:\n",
    "\n",
    "        test = Variable(samples.view(batch_size_val,1,-1))\n",
    "\n",
    "        #setting up in test mode\n",
    "        model.eval()\n",
    "        # Forward propagation\n",
    "        outputs = model(test)\n",
    "        outputs = outputs.view(batch_size_val, n_classes)\n",
    "\n",
    "        # Get predictions from the maximum value\n",
    "        predicted = torch.max(outputs.data, 1)[1].type(torch.FloatTensor)\n",
    "\n",
    "        # Total number of labels\n",
    "        total += len(labels)\n",
    "\n",
    "        # Total correct predictions\n",
    "        correct += (predicted == labels).sum()\n",
    "\n",
    "    accuracy = 100 * correct / float(total)\n",
    "\n",
    "    loss_list.append(loss.data)\n",
    "    iteration_list.append(count)\n",
    "    accuracy_list.append(accuracy)\n",
    "    \n",
    "\n",
    "    print('Iteration: {}  Loss: {}  Accuracy: {} %'.format(count, loss.data[0], accuracy))\n",
    "\n",
    "plt.subplot(2,1,1)\n",
    "plt.title('Final Loss curve')\n",
    "plt.plot(loss_list)\n",
    "plt.subplot(2,1,2)\n",
    "plt.title('Final Validation Curve')\n",
    "plt.plot(accuracy_list)"
   ]
  },
  {
   "cell_type": "code",
   "execution_count": 18,
   "metadata": {},
   "outputs": [
    {
     "name": "stdout",
     "output_type": "stream",
     "text": [
      "[[18  4]\n",
      " [ 4 16]]\n",
      "Accuracy Score: 80.95238095238095\n",
      "F1 Score: 80.00000000000001\n",
      "Precision Score: 80.0\n",
      "Recall Score: 80.0\n",
      "[tensor(0), tensor(0), tensor(0), tensor(0), tensor(0), tensor(0), tensor(0), tensor(0), tensor(0), tensor(0), tensor(1), tensor(1), tensor(1), tensor(1), tensor(1), tensor(1), tensor(1), tensor(1), tensor(1), tensor(1), tensor(0), tensor(1), tensor(0), tensor(1), tensor(1), tensor(0), tensor(0), tensor(0), tensor(0), tensor(1), tensor(0), tensor(1), tensor(1), tensor(1), tensor(1), tensor(0), tensor(0), tensor(0), tensor(0), tensor(1), tensor(1), tensor(0)]\n",
      "[tensor(0.), tensor(0.), tensor(0.), tensor(0.), tensor(0.), tensor(0.), tensor(0.), tensor(0.), tensor(0.), tensor(0.), tensor(1.), tensor(1.), tensor(1.), tensor(1.), tensor(1.), tensor(1.), tensor(1.), tensor(1.), tensor(1.), tensor(1.), tensor(0.), tensor(0.), tensor(0.), tensor(0.), tensor(0.), tensor(0.), tensor(0.), tensor(0.), tensor(0.), tensor(0.), tensor(0.), tensor(1.), tensor(1.), tensor(1.), tensor(1.), tensor(1.), tensor(1.), tensor(1.), tensor(1.), tensor(1.), tensor(1.), tensor(0.)]\n"
     ]
    }
   ],
   "source": [
    "\n",
    "\n",
    "from sklearn.metrics import confusion_matrix\n",
    "from sklearn.metrics import precision_score\n",
    "from sklearn.metrics import recall_score\n",
    "from sklearn.metrics import accuracy_score\n",
    "from sklearn.metrics import f1_score\n",
    "\n",
    "n_classes=2\n",
    "accuracy_list = []\n",
    "f1_score_list = []\n",
    "precision_list = []\n",
    "recall_list = []\n",
    "y_pred =[]\n",
    "y_true = []\n",
    "\n",
    "batch_size_val = 16\n",
    "with torch.no_grad():\n",
    "    for i, data in enumerate(vw_test_loader, 0):\n",
    "            samples, labels = data\n",
    "            samples = Variable(samples.view(batch_size_test,1,-1))\n",
    "            \n",
    "            model.eval()\n",
    "            \n",
    "            outputs = model(samples)\n",
    "            outputs = outputs.view(batch_size_test, n_classes)\n",
    "            \n",
    "            predictions = torch.argmax(outputs, 1)\n",
    "            targets = labels\n",
    "            \n",
    "            y_pred.extend(predictions)\n",
    "            y_true.extend(targets)\n",
    "\n",
    "\n",
    "\n",
    "conf_matrix = confusion_matrix(y_true, y_pred)\n",
    "print(conf_matrix)\n",
    "print(\"Accuracy Score: {}\".format(accuracy_score(y_true, y_pred) * 100))\n",
    "print(\"F1 Score: {}\". format(f1_score(y_true, y_pred) * 100))\n",
    "print(\"Precision Score: {}\".format(precision_score(y_true, y_pred) * 100))\n",
    "print(\"Recall Score: {}\".format(recall_score(y_true, y_pred)* 100))\n",
    "print(y_pred)\n",
    "print(y_true)\n",
    "\n"
   ]
  },
  {
   "cell_type": "code",
   "execution_count": 19,
   "metadata": {},
   "outputs": [
    {
     "name": "stderr",
     "output_type": "stream",
     "text": [
      "/Users/saivineethks/anaconda3/envs/pytorch/lib/python3.6/site-packages/torch/serialization.py:241: UserWarning: Couldn't retrieve source code for container of type ConvNet. It won't be checked for correctness upon loading.\n",
      "  \"type \" + obj.__name__ + \". It won't be checked \"\n"
     ]
    }
   ],
   "source": [
    "torch.save(model,'temp_model')"
   ]
  },
  {
   "cell_type": "code",
   "execution_count": 5,
   "metadata": {},
   "outputs": [],
   "source": [
    "model = torch.load('temp_model')"
   ]
  },
  {
   "cell_type": "markdown",
   "metadata": {},
   "source": [
    "## training with only time warping on volkswagen data with different sigmas"
   ]
  },
  {
   "cell_type": "code",
   "execution_count": 8,
   "metadata": {},
   "outputs": [
    {
     "name": "stdout",
     "output_type": "stream",
     "text": [
      "Features numpy (21, 50000)\n",
      "Targets numpy (21,)\n"
     ]
    }
   ],
   "source": [
    "vw_data = sio.loadmat('./VWVW_6Khz_L23Mat_accZY_chunk_noTurn_noStatic.mat')\n",
    "vw_start_no = 0\n",
    "vw_range_len = 50000\n",
    "vw_data_set = data['L23MatChunk']\n",
    "vw_n_trials = len(data_set)\n",
    "vw_total_set = np.zeros((1,50000))\n",
    "\n",
    "for i in range (20):\n",
    "\n",
    "    vw_curr = np.asarray(vw_data_set[i][0][0][vw_start_no : vw_start_no + vw_range_len]).reshape(1,vw_range_len)\n",
    "    vw_total_set = np.append(vw_total_set, vw_curr, axis = 0)\n",
    "\n",
    "vw_total_set = np.delete(vw_total_set, (0), axis=0) \n",
    "\n",
    "vw_labels = []\n",
    "for i in range(0, vw_n_trials):\n",
    "    if(i < 10):\n",
    "        vw_labels.append(0)\n",
    "    else:\n",
    "        vw_labels.append(1)\n",
    "\n",
    "vw_labels = np.asarray(vw_labels).reshape(vw_n_trials,1)\n",
    "vw_total_set = np.append(vw_total_set, vw_labels, axis = 1)\n",
    "\n",
    "vw_total_set = np.append(vw_total_set, vw_total_set[0,:].reshape(1,-1), axis = 0)\n",
    "vw_targets_numpy = vw_total_set[:,-1]\n",
    "vw_features_numpy = vw_total_set[:,:-1]\n",
    "print(\"Features numpy {}\".format(vw_features_numpy.shape))\n",
    "print(\"Targets numpy {}\".format(vw_targets_numpy.shape))"
   ]
  },
  {
   "cell_type": "code",
   "execution_count": 9,
   "metadata": {},
   "outputs": [],
   "source": [
    "initial_vw_targets_numpy = vw_targets_numpy"
   ]
  },
  {
   "cell_type": "code",
   "execution_count": 7,
   "metadata": {},
   "outputs": [
    {
     "name": "stdout",
     "output_type": "stream",
     "text": [
      "vw FeaturesNumpy Output shape after time warping for testings\n",
      "(231, 50000)\n",
      "vw TargetsNumpy Output shape after time warping for testing\n",
      "(231,)\n"
     ]
    }
   ],
   "source": [
    "#implementation of time warping\n",
    "def GenerateRandomCurves(X, sigma=0.2, knot=4):\n",
    "    xx = (np.ones((X.shape[1],1))*(np.arange(0,X.shape[0], (X.shape[0]-1)/(knot+1)))).transpose()\n",
    "    yy = np.random.normal(loc=1.0, scale=sigma, size=(knot+2, X.shape[1]))\n",
    "    x_range = np.arange(X.shape[0])\n",
    "    cs_x = CubicSpline(xx[:,0], yy[:,0])\n",
    "    cs_y = CubicSpline(xx[:,1], yy[:,1])\n",
    "    cs_z = CubicSpline(xx[:,2], yy[:,2])\n",
    "    return np.array([cs_x(x_range),cs_y(x_range),cs_z(x_range)]).transpose()\n",
    "\n",
    "def DistortTimesteps(X, sigma=0.2):\n",
    "    tt = GenerateRandomCurves(X, sigma) # Regard these samples aroun 1 as time intervals\n",
    "    tt_cum = np.cumsum(tt, axis=0)        # Add intervals to make a cumulative graph\n",
    "    # Make the last value to have X.shape[0]\n",
    "    t_scale = [(X.shape[0]-1)/tt_cum[-1,0],(X.shape[0]-1)/tt_cum[-1,1],(X.shape[0]-1)/tt_cum[-1,2]]\n",
    "    tt_cum[:,0] = tt_cum[:,0]*t_scale[0]\n",
    "    tt_cum[:,1] = tt_cum[:,1]*t_scale[1]\n",
    "    tt_cum[:,2] = tt_cum[:,2]*t_scale[2]\n",
    "    return tt_cum\n",
    "\n",
    "def DA_TimeWarp(X, sigma=0.2):\n",
    "    tt_new = DistortTimesteps(X, sigma)\n",
    "    X_new = np.zeros(X.shape)\n",
    "    x_range = np.arange(X.shape[0])\n",
    "    X_new[:,0] = np.interp(x_range, tt_new[:,0], X[:,0])\n",
    "    X_new[:,1] = np.interp(x_range, tt_new[:,1], X[:,1])\n",
    "    X_new[:,2] = np.interp(x_range, tt_new[:,2], X[:,2])\n",
    "    return X_new\n",
    "\n",
    "\n",
    "vw_features_numpy_new = vw_features_numpy.T\n",
    "\n",
    "n_sets_time_warping = 10\n",
    "sigmas = [0.3,0.15,0.1,0.25,0.2,0.05,0.27,0.37,0.43,0.13]\n",
    "# sigmas = [0.22, 0.47, 0.33, 0.03, 0.19]\n",
    "\n",
    "for j in range (n_sets_time_warping):\n",
    "    for i in range(0,21,3):\n",
    "        ip = vw_features_numpy_new[:,i:i+3]\n",
    "        vw_features_numpy = np.append(vw_features_numpy, DA_TimeWarp(ip, sigmas[j]).T , axis = 0)\n",
    "    vw_targets_numpy = np.append(vw_targets_numpy,initial_vw_targets_numpy,axis = 0)\n",
    "# targets_numpy = np.repeat(targets_numpy, n_sets_time_warping+1)\n",
    "\n",
    "print('vw FeaturesNumpy Output shape after time warping for testings')\n",
    "print(vw_features_numpy.shape)\n",
    "print('vw TargetsNumpy Output shape after time warping for testing')\n",
    "print(vw_targets_numpy.shape)\n",
    "    "
   ]
  },
  {
   "cell_type": "code",
   "execution_count": 11,
   "metadata": {},
   "outputs": [
    {
     "name": "stdout",
     "output_type": "stream",
     "text": [
      "Testing dataset dimensions\n",
      "Shape of Features Dataset\n",
      "torch.Size([126, 50000])\n",
      "Shape of Targets Dataset\n",
      "torch.Size([126])\n"
     ]
    }
   ],
   "source": [
    "vw_features = torch.from_numpy(vw_features_numpy).type(torch.FloatTensor)\n",
    "vw_targets = torch.from_numpy(vw_targets_numpy).type(torch.FloatTensor)\n",
    "\n",
    "vw_totalDataset = torch.utils.data.TensorDataset(vw_features,vw_targets)\n",
    "\n",
    "batch_size_test = 42\n",
    "vw_test_loader = torch.utils.data.DataLoader(vw_totalDataset, batch_size = batch_size_test, shuffle = False)\n",
    "\n",
    "\n",
    "print('Testing dataset dimensions')\n",
    "print('Shape of Features Dataset')\n",
    "print(vw_features.size())\n",
    "print('Shape of Targets Dataset')\n",
    "print(vw_targets.size())"
   ]
  },
  {
   "cell_type": "code",
   "execution_count": 9,
   "metadata": {},
   "outputs": [
    {
     "name": "stdout",
     "output_type": "stream",
     "text": [
      "[[94 27]\n",
      " [24 86]]\n",
      "Accuracy Score: 77.92207792207793\n",
      "F1 Score: 77.13004484304933\n",
      "Precision Score: 76.10619469026548\n",
      "Recall Score: 78.18181818181819\n",
      "[tensor(0), tensor(0), tensor(0), tensor(0), tensor(0), tensor(0), tensor(0), tensor(0), tensor(0), tensor(0), tensor(1), tensor(1), tensor(1), tensor(1), tensor(1), tensor(1), tensor(1), tensor(1), tensor(1), tensor(1), tensor(0), tensor(0), tensor(0), tensor(1), tensor(1), tensor(0), tensor(0), tensor(0), tensor(0), tensor(0), tensor(0), tensor(1), tensor(1), tensor(1), tensor(0), tensor(1), tensor(0), tensor(1), tensor(1), tensor(0), tensor(1), tensor(1), tensor(0), tensor(0), tensor(1), tensor(1), tensor(0), tensor(0), tensor(0), tensor(0), tensor(0), tensor(0), tensor(1), tensor(1), tensor(1), tensor(1), tensor(1), tensor(0), tensor(1), tensor(1), tensor(1), tensor(1), tensor(0), tensor(0), tensor(0), tensor(0), tensor(0), tensor(1), tensor(0), tensor(0), tensor(0), tensor(0), tensor(0), tensor(1), tensor(1), tensor(1), tensor(1), tensor(1), tensor(1), tensor(1), tensor(1), tensor(1), tensor(1), tensor(1), tensor(1), tensor(0), tensor(1), tensor(1), tensor(1), tensor(0), tensor(0), tensor(0), tensor(0), tensor(0), tensor(1), tensor(1), tensor(1), tensor(1), tensor(1), tensor(1), tensor(0), tensor(1), tensor(0), tensor(1), tensor(1), tensor(0), tensor(0), tensor(1), tensor(0), tensor(0), tensor(0), tensor(0), tensor(0), tensor(0), tensor(0), tensor(1), tensor(1), tensor(1), tensor(0), tensor(1), tensor(1), tensor(0), tensor(1), tensor(1), tensor(1), tensor(0), tensor(0), tensor(0), tensor(0), tensor(0), tensor(1), tensor(0), tensor(0), tensor(0), tensor(0), tensor(0), tensor(1), tensor(1), tensor(1), tensor(1), tensor(1), tensor(0), tensor(1), tensor(1), tensor(1), tensor(1), tensor(1), tensor(0), tensor(0), tensor(0), tensor(1), tensor(1), tensor(0), tensor(0), tensor(0), tensor(0), tensor(0), tensor(1), tensor(1), tensor(1), tensor(1), tensor(1), tensor(1), tensor(1), tensor(0), tensor(1), tensor(1), tensor(1), tensor(0), tensor(0), tensor(1), tensor(0), tensor(1), tensor(0), tensor(0), tensor(0), tensor(0), tensor(0), tensor(1), tensor(1), tensor(0), tensor(0), tensor(1), tensor(0), tensor(0), tensor(0), tensor(0), tensor(1), tensor(1), tensor(0), tensor(0), tensor(1), tensor(0), tensor(1), tensor(0), tensor(0), tensor(0), tensor(1), tensor(0), tensor(0), tensor(1), tensor(1), tensor(0), tensor(0), tensor(1), tensor(0), tensor(1), tensor(0), tensor(0), tensor(0), tensor(0), tensor(0), tensor(1), tensor(0), tensor(1), tensor(0), tensor(0), tensor(0), tensor(0), tensor(0), tensor(1), tensor(1), tensor(1), tensor(0), tensor(1), tensor(0), tensor(1), tensor(1), tensor(1), tensor(1), tensor(1)]\n",
      "[tensor(0.), tensor(0.), tensor(0.), tensor(0.), tensor(0.), tensor(0.), tensor(0.), tensor(0.), tensor(0.), tensor(0.), tensor(1.), tensor(1.), tensor(1.), tensor(1.), tensor(1.), tensor(1.), tensor(1.), tensor(1.), tensor(1.), tensor(1.), tensor(0.), tensor(0.), tensor(0.), tensor(0.), tensor(0.), tensor(0.), tensor(0.), tensor(0.), tensor(0.), tensor(0.), tensor(0.), tensor(1.), tensor(1.), tensor(1.), tensor(1.), tensor(1.), tensor(1.), tensor(1.), tensor(1.), tensor(1.), tensor(1.), tensor(0.), tensor(0.), tensor(0.), tensor(0.), tensor(0.), tensor(0.), tensor(0.), tensor(0.), tensor(0.), tensor(0.), tensor(0.), tensor(1.), tensor(1.), tensor(1.), tensor(1.), tensor(1.), tensor(1.), tensor(1.), tensor(1.), tensor(1.), tensor(1.), tensor(0.), tensor(0.), tensor(0.), tensor(0.), tensor(0.), tensor(0.), tensor(0.), tensor(0.), tensor(0.), tensor(0.), tensor(0.), tensor(1.), tensor(1.), tensor(1.), tensor(1.), tensor(1.), tensor(1.), tensor(1.), tensor(1.), tensor(1.), tensor(1.), tensor(0.), tensor(0.), tensor(0.), tensor(0.), tensor(0.), tensor(0.), tensor(0.), tensor(0.), tensor(0.), tensor(0.), tensor(0.), tensor(1.), tensor(1.), tensor(1.), tensor(1.), tensor(1.), tensor(1.), tensor(1.), tensor(1.), tensor(1.), tensor(1.), tensor(0.), tensor(0.), tensor(0.), tensor(0.), tensor(0.), tensor(0.), tensor(0.), tensor(0.), tensor(0.), tensor(0.), tensor(0.), tensor(1.), tensor(1.), tensor(1.), tensor(1.), tensor(1.), tensor(1.), tensor(1.), tensor(1.), tensor(1.), tensor(1.), tensor(0.), tensor(0.), tensor(0.), tensor(0.), tensor(0.), tensor(0.), tensor(0.), tensor(0.), tensor(0.), tensor(0.), tensor(0.), tensor(1.), tensor(1.), tensor(1.), tensor(1.), tensor(1.), tensor(1.), tensor(1.), tensor(1.), tensor(1.), tensor(1.), tensor(0.), tensor(0.), tensor(0.), tensor(0.), tensor(0.), tensor(0.), tensor(0.), tensor(0.), tensor(0.), tensor(0.), tensor(0.), tensor(1.), tensor(1.), tensor(1.), tensor(1.), tensor(1.), tensor(1.), tensor(1.), tensor(1.), tensor(1.), tensor(1.), tensor(0.), tensor(0.), tensor(0.), tensor(0.), tensor(0.), tensor(0.), tensor(0.), tensor(0.), tensor(0.), tensor(0.), tensor(0.), tensor(1.), tensor(1.), tensor(1.), tensor(1.), tensor(1.), tensor(1.), tensor(1.), tensor(1.), tensor(1.), tensor(1.), tensor(0.), tensor(0.), tensor(0.), tensor(0.), tensor(0.), tensor(0.), tensor(0.), tensor(0.), tensor(0.), tensor(0.), tensor(0.), tensor(1.), tensor(1.), tensor(1.), tensor(1.), tensor(1.), tensor(1.), tensor(1.), tensor(1.), tensor(1.), tensor(1.), tensor(0.), tensor(0.), tensor(0.), tensor(0.), tensor(0.), tensor(0.), tensor(0.), tensor(0.), tensor(0.), tensor(0.), tensor(0.), tensor(1.), tensor(1.), tensor(1.), tensor(1.), tensor(1.), tensor(1.), tensor(1.), tensor(1.), tensor(1.), tensor(1.), tensor(0.)]\n"
     ]
    }
   ],
   "source": [
    "\n",
    "\n",
    "from sklearn.metrics import confusion_matrix\n",
    "from sklearn.metrics import precision_score\n",
    "from sklearn.metrics import recall_score\n",
    "from sklearn.metrics import accuracy_score\n",
    "from sklearn.metrics import f1_score\n",
    "\n",
    "n_classes = 2\n",
    "accuracy_list = []\n",
    "f1_score_list = []\n",
    "precision_list = []\n",
    "recall_list = []\n",
    "y_pred =[]\n",
    "y_true = []\n",
    "\n",
    "# batch_size_test = \n",
    "with torch.no_grad():\n",
    "    for i, data in enumerate(vw_test_loader, 0):\n",
    "            samples, labels = data\n",
    "            samples = Variable(samples.view(batch_size_test,1,-1))\n",
    "            \n",
    "            model.eval()\n",
    "            \n",
    "            outputs = model(samples)\n",
    "            outputs = outputs.view(batch_size_test, n_classes)\n",
    "            \n",
    "            predictions = torch.argmax(outputs, 1)\n",
    "            targets = labels\n",
    "            \n",
    "            y_pred.extend(predictions)\n",
    "            y_true.extend(targets)\n",
    "\n",
    "\n",
    "\n",
    "conf_matrix = confusion_matrix(y_true, y_pred)\n",
    "print(conf_matrix)\n",
    "print(\"Accuracy Score: {}\".format(accuracy_score(y_true, y_pred) * 100))\n",
    "print(\"F1 Score: {}\". format(f1_score(y_true, y_pred) * 100))\n",
    "print(\"Precision Score: {}\".format(precision_score(y_true, y_pred) * 100))\n",
    "print(\"Recall Score: {}\".format(recall_score(y_true, y_pred)* 100))\n",
    "print(y_pred)\n",
    "print(y_true)"
   ]
  },
  {
   "cell_type": "code",
   "execution_count": 10,
   "metadata": {},
   "outputs": [
    {
     "name": "stdout",
     "output_type": "stream",
     "text": [
      "vw FeaturesNumpy Output shape after time warping for testings\n",
      "(126, 50000)\n",
      "vw TargetsNumpy Output shape after time warping for testing\n",
      "(126,)\n"
     ]
    }
   ],
   "source": [
    "#implementation of time warping\n",
    "def GenerateRandomCurves(X, sigma=0.2, knot=4):\n",
    "    xx = (np.ones((X.shape[1],1))*(np.arange(0,X.shape[0], (X.shape[0]-1)/(knot+1)))).transpose()\n",
    "    yy = np.random.normal(loc=1.0, scale=sigma, size=(knot+2, X.shape[1]))\n",
    "    x_range = np.arange(X.shape[0])\n",
    "    cs_x = CubicSpline(xx[:,0], yy[:,0])\n",
    "    cs_y = CubicSpline(xx[:,1], yy[:,1])\n",
    "    cs_z = CubicSpline(xx[:,2], yy[:,2])\n",
    "    return np.array([cs_x(x_range),cs_y(x_range),cs_z(x_range)]).transpose()\n",
    "\n",
    "def DistortTimesteps(X, sigma=0.2):\n",
    "    tt = GenerateRandomCurves(X, sigma) # Regard these samples aroun 1 as time intervals\n",
    "    tt_cum = np.cumsum(tt, axis=0)        # Add intervals to make a cumulative graph\n",
    "    # Make the last value to have X.shape[0]\n",
    "    t_scale = [(X.shape[0]-1)/tt_cum[-1,0],(X.shape[0]-1)/tt_cum[-1,1],(X.shape[0]-1)/tt_cum[-1,2]]\n",
    "    tt_cum[:,0] = tt_cum[:,0]*t_scale[0]\n",
    "    tt_cum[:,1] = tt_cum[:,1]*t_scale[1]\n",
    "    tt_cum[:,2] = tt_cum[:,2]*t_scale[2]\n",
    "    return tt_cum\n",
    "\n",
    "def DA_TimeWarp(X, sigma=0.2):\n",
    "    tt_new = DistortTimesteps(X, sigma)\n",
    "    X_new = np.zeros(X.shape)\n",
    "    x_range = np.arange(X.shape[0])\n",
    "    X_new[:,0] = np.interp(x_range, tt_new[:,0], X[:,0])\n",
    "    X_new[:,1] = np.interp(x_range, tt_new[:,1], X[:,1])\n",
    "    X_new[:,2] = np.interp(x_range, tt_new[:,2], X[:,2])\n",
    "    return X_new\n",
    "\n",
    "\n",
    "vw_features_numpy_new = vw_features_numpy.T\n",
    "\n",
    "n_sets_time_warping = 5\n",
    "# sigmas = [0.3,0.15,0.1,0.25,0.2,0.05,0.27,0.37,0.43,0.13]\n",
    "sigmas = [0.22, 0.47, 0.33, 0.03, 0.19]\n",
    "\n",
    "for j in range (n_sets_time_warping):\n",
    "    for i in range(0,21,3):\n",
    "        ip = vw_features_numpy_new[:,i:i+3]\n",
    "        vw_features_numpy = np.append(vw_features_numpy, DA_TimeWarp(ip, sigmas[j]).T , axis = 0)\n",
    "    vw_targets_numpy = np.append(vw_targets_numpy,initial_vw_targets_numpy,axis = 0)\n",
    "# targets_numpy = np.repeat(targets_numpy, n_sets_time_warping+1)\n",
    "\n",
    "print('vw FeaturesNumpy Output shape after time warping for testings')\n",
    "print(vw_features_numpy.shape)\n",
    "print('vw TargetsNumpy Output shape after time warping for testing')\n",
    "print(vw_targets_numpy.shape)\n",
    "    "
   ]
  },
  {
   "cell_type": "code",
   "execution_count": 12,
   "metadata": {},
   "outputs": [
    {
     "name": "stdout",
     "output_type": "stream",
     "text": [
      "[[57  9]\n",
      " [ 9 51]]\n",
      "Accuracy Score: 85.71428571428571\n",
      "F1 Score: 85.0\n",
      "Precision Score: 85.0\n",
      "Recall Score: 85.0\n",
      "[tensor(0), tensor(0), tensor(0), tensor(0), tensor(0), tensor(0), tensor(0), tensor(0), tensor(0), tensor(0), tensor(1), tensor(1), tensor(1), tensor(1), tensor(1), tensor(1), tensor(1), tensor(1), tensor(1), tensor(1), tensor(0), tensor(1), tensor(0), tensor(1), tensor(1), tensor(0), tensor(0), tensor(0), tensor(0), tensor(0), tensor(0), tensor(1), tensor(1), tensor(1), tensor(1), tensor(1), tensor(1), tensor(0), tensor(1), tensor(1), tensor(1), tensor(0), tensor(0), tensor(0), tensor(1), tensor(0), tensor(0), tensor(0), tensor(0), tensor(0), tensor(0), tensor(0), tensor(1), tensor(1), tensor(1), tensor(0), tensor(1), tensor(1), tensor(1), tensor(0), tensor(0), tensor(1), tensor(1), tensor(0), tensor(0), tensor(0), tensor(1), tensor(0), tensor(0), tensor(0), tensor(0), tensor(0), tensor(0), tensor(1), tensor(1), tensor(1), tensor(1), tensor(1), tensor(0), tensor(1), tensor(0), tensor(1), tensor(1), tensor(0), tensor(0), tensor(0), tensor(0), tensor(0), tensor(0), tensor(0), tensor(0), tensor(0), tensor(0), tensor(0), tensor(1), tensor(1), tensor(1), tensor(1), tensor(1), tensor(0), tensor(1), tensor(1), tensor(1), tensor(1), tensor(1), tensor(0), tensor(0), tensor(0), tensor(1), tensor(1), tensor(0), tensor(0), tensor(0), tensor(0), tensor(0), tensor(1), tensor(1), tensor(1), tensor(1), tensor(1), tensor(0), tensor(1), tensor(1), tensor(0), tensor(1), tensor(0)]\n",
      "[tensor(0.), tensor(0.), tensor(0.), tensor(0.), tensor(0.), tensor(0.), tensor(0.), tensor(0.), tensor(0.), tensor(0.), tensor(1.), tensor(1.), tensor(1.), tensor(1.), tensor(1.), tensor(1.), tensor(1.), tensor(1.), tensor(1.), tensor(1.), tensor(0.), tensor(0.), tensor(0.), tensor(0.), tensor(0.), tensor(0.), tensor(0.), tensor(0.), tensor(0.), tensor(0.), tensor(0.), tensor(1.), tensor(1.), tensor(1.), tensor(1.), tensor(1.), tensor(1.), tensor(1.), tensor(1.), tensor(1.), tensor(1.), tensor(0.), tensor(0.), tensor(0.), tensor(0.), tensor(0.), tensor(0.), tensor(0.), tensor(0.), tensor(0.), tensor(0.), tensor(0.), tensor(1.), tensor(1.), tensor(1.), tensor(1.), tensor(1.), tensor(1.), tensor(1.), tensor(1.), tensor(1.), tensor(1.), tensor(0.), tensor(0.), tensor(0.), tensor(0.), tensor(0.), tensor(0.), tensor(0.), tensor(0.), tensor(0.), tensor(0.), tensor(0.), tensor(1.), tensor(1.), tensor(1.), tensor(1.), tensor(1.), tensor(1.), tensor(1.), tensor(1.), tensor(1.), tensor(1.), tensor(0.), tensor(0.), tensor(0.), tensor(0.), tensor(0.), tensor(0.), tensor(0.), tensor(0.), tensor(0.), tensor(0.), tensor(0.), tensor(1.), tensor(1.), tensor(1.), tensor(1.), tensor(1.), tensor(1.), tensor(1.), tensor(1.), tensor(1.), tensor(1.), tensor(0.), tensor(0.), tensor(0.), tensor(0.), tensor(0.), tensor(0.), tensor(0.), tensor(0.), tensor(0.), tensor(0.), tensor(0.), tensor(1.), tensor(1.), tensor(1.), tensor(1.), tensor(1.), tensor(1.), tensor(1.), tensor(1.), tensor(1.), tensor(1.), tensor(0.)]\n"
     ]
    }
   ],
   "source": [
    "\n",
    "\n",
    "from sklearn.metrics import confusion_matrix\n",
    "from sklearn.metrics import precision_score\n",
    "from sklearn.metrics import recall_score\n",
    "from sklearn.metrics import accuracy_score\n",
    "from sklearn.metrics import f1_score\n",
    "\n",
    "n_classes = 2\n",
    "accuracy_list = []\n",
    "f1_score_list = []\n",
    "precision_list = []\n",
    "recall_list = []\n",
    "y_pred =[]\n",
    "y_true = []\n",
    "\n",
    "# batch_size_test = \n",
    "with torch.no_grad():\n",
    "    for i, data in enumerate(vw_test_loader, 0):\n",
    "            samples, labels = data\n",
    "            samples = Variable(samples.view(batch_size_test,1,-1))\n",
    "            \n",
    "            model.eval()\n",
    "            \n",
    "            outputs = model(samples)\n",
    "            outputs = outputs.view(batch_size_test, n_classes)\n",
    "            \n",
    "            predictions = torch.argmax(outputs, 1)\n",
    "            targets = labels\n",
    "            \n",
    "            y_pred.extend(predictions)\n",
    "            y_true.extend(targets)\n",
    "\n",
    "\n",
    "\n",
    "conf_matrix = confusion_matrix(y_true, y_pred)\n",
    "print(conf_matrix)\n",
    "print(\"Accuracy Score: {}\".format(accuracy_score(y_true, y_pred) * 100))\n",
    "print(\"F1 Score: {}\". format(f1_score(y_true, y_pred) * 100))\n",
    "print(\"Precision Score: {}\".format(precision_score(y_true, y_pred) * 100))\n",
    "print(\"Recall Score: {}\".format(recall_score(y_true, y_pred)* 100))\n",
    "print(y_pred)\n",
    "print(y_true)"
   ]
  },
  {
   "cell_type": "code",
   "execution_count": null,
   "metadata": {},
   "outputs": [],
   "source": []
  }
 ],
 "metadata": {
  "kernelspec": {
   "display_name": "Python 3",
   "language": "python",
   "name": "python3"
  },
  "language_info": {
   "codemirror_mode": {
    "name": "ipython",
    "version": 3
   },
   "file_extension": ".py",
   "mimetype": "text/x-python",
   "name": "python",
   "nbconvert_exporter": "python",
   "pygments_lexer": "ipython3",
   "version": "3.6.6"
  }
 },
 "nbformat": 4,
 "nbformat_minor": 2
}
