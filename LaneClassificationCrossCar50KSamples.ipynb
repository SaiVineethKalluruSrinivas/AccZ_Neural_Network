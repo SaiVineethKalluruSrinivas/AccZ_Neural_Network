{
 "cells": [
  {
   "cell_type": "markdown",
   "metadata": {},
   "source": [
    "## Load Data - Train with Subaru and Test with VW"
   ]
  },
  {
   "cell_type": "code",
   "execution_count": 3,
   "metadata": {},
   "outputs": [
    {
     "name": "stdout",
     "output_type": "stream",
     "text": [
      "Train Features numpy (20, 50000)\n",
      "Train Targets numpy (20,)\n",
      "Test Features numpy (20, 50000)\n",
      "Test Targets numpy (20,)\n"
     ]
    }
   ],
   "source": [
    "#DATASET PREPERATION\n",
    "%matplotlib inline\n",
    "import torch\n",
    "import random\n",
    "import torch.nn as nn\n",
    "import pandas as pd\n",
    "import numpy as np\n",
    "from torchvision import transforms\n",
    "import torch.optim as optim\n",
    "from torch.utils.data import Dataset, DataLoader\n",
    "from PIL import Image\n",
    "from torch import autograd\n",
    "from torch.autograd import Variable\n",
    "from torchvision.utils import make_grid\n",
    "import matplotlib.pyplot as plt\n",
    "import scipy.io as sio\n",
    "from sklearn.model_selection import train_test_split\n",
    "from scipy.interpolate import CubicSpline      \n",
    "from transforms3d.axangles import axangle2mat  \n",
    "import copy\n",
    "\n",
    "start_no = 0\n",
    "range_len = 50000\n",
    "train_set = np.zeros((1,range_len))\n",
    "test_set = np.zeros((1,range_len))\n",
    "num_datapoints = 20\n",
    "\n",
    "data = sio.loadmat('../accelane_mat_v3/SBSB_6Khz_preprocessed_AccZ.mat')\n",
    "for i in range (num_datapoints):     \n",
    "    varName = \"accZ_L{}T{}_p\".format(2 if i < 10 else 3, (i%10)+1)\n",
    "    curr = np.asarray(data[varName][start_no : start_no+range_len]).reshape(1,range_len)\n",
    "    train_set = np.append(train_set, curr, axis = 0)\n",
    "train_set = np.delete(train_set, (0), axis=0) \n",
    "\n",
    "data = sio.loadmat('../accelane_mat_v3/VWVW_preprocessed_AccZ.mat')\n",
    "for i in range (num_datapoints):\n",
    "    varName = \"accZ_L{}T{}_p\".format(2 if i < 10 else 3, (i%10)+1)\n",
    "    curr = np.asarray(data[varName][start_no : start_no+range_len]).reshape(1,range_len)\n",
    "    test_set = np.append(test_set, curr, axis = 0)\n",
    "test_set = np.delete(test_set, (0), axis=0)\n",
    "\n",
    "train_labels = np.concatenate(\n",
    "    (np.zeros(num_datapoints//2).astype(int), np.ones(num_datapoints//2).astype(int))).reshape(num_datapoints, 1)\n",
    "test_labels = copy.deepcopy(train_labels)\n",
    "\n",
    "train_set = np.append(train_set, train_labels, axis = 1)\n",
    "test_set = np.append(test_set, test_labels, axis = 1)\n",
    "\n",
    "train_targets_numpy = train_set[:,-1]\n",
    "train_features_numpy = train_set[:,:-1]\n",
    "print(\"Train Features numpy {}\".format(train_features_numpy.shape))\n",
    "print(\"Train Targets numpy {}\".format(train_targets_numpy.shape))\n",
    "\n",
    "test_targets_numpy = test_set[:,-1]\n",
    "test_features_numpy = test_set[:,:-1]\n",
    "print(\"Test Features numpy {}\".format(test_features_numpy.shape))\n",
    "print(\"Test Targets numpy {}\".format(test_targets_numpy.shape))\n",
    "\n",
    "num_original_samples = num_datapoints\n",
    "features_numpy_new = train_features_numpy.T"
   ]
  },
  {
   "cell_type": "markdown",
   "metadata": {},
   "source": [
    "## Training Data Augmentation"
   ]
  },
  {
   "cell_type": "markdown",
   "metadata": {},
   "source": [
    "### Jittering"
   ]
  },
  {
   "cell_type": "code",
   "execution_count": 4,
   "metadata": {},
   "outputs": [
    {
     "name": "stdout",
     "output_type": "stream",
     "text": [
      "FeaturesNumpy Output shape after jittering\n",
      "(460, 50000)\n",
      "TargetsNumpy Output shape after jittering\n",
      "(460,)\n"
     ]
    }
   ],
   "source": [
    "def DA_Jitter(X, sigma= 0.05):\n",
    "    myNoise = np.random.normal(loc=0, scale=sigma, size=X.shape)\n",
    "    return X+myNoise\n",
    "\n",
    "sigma = np.linspace(.1,1,22)\n",
    "for j in sigma:\n",
    "    for i in range(num_original_samples):\n",
    "        train_features_numpy = np.append(train_features_numpy, DA_Jitter(features_numpy_new[:,i], j).reshape(1,-1), axis = 0)\n",
    "    train_targets_numpy = np.append(train_targets_numpy, train_targets_numpy[:num_original_samples], axis = 0)\n",
    "print('FeaturesNumpy Output shape after jittering')\n",
    "print(train_features_numpy.shape)\n",
    "print('TargetsNumpy Output shape after jittering')\n",
    "print(train_targets_numpy.shape)"
   ]
  },
  {
   "cell_type": "markdown",
   "metadata": {},
   "source": [
    "### Scaling"
   ]
  },
  {
   "cell_type": "code",
   "execution_count": 14,
   "metadata": {},
   "outputs": [
    {
     "name": "stdout",
     "output_type": "stream",
     "text": [
      "FeaturesNumpy Output shape after scaling\n",
      "(2140, 50000)\n",
      "TargetsNumpy Output shape after scaling\n",
      "(2140, 50000)\n"
     ]
    }
   ],
   "source": [
    "def DA_Scaling(X, sigma=0.1):\n",
    "    scalingFactor = np.random.normal(loc=1.0, scale=sigma, size=(1,X.shape[1])) # shape=(1,3)\n",
    "    myNoise = np.matmul(np.ones((X.shape[0],1)), scalingFactor)\n",
    "    return X*myNoise\n",
    "\n",
    "sigma = np.linspace(.2,2,22)\n",
    "for j in sigma:\n",
    "    for i in range(num_original_samples):\n",
    "        train_features_numpy = np.append(train_features_numpy, DA_Scaling(features_numpy_new[:,i].reshape(-1,1), j).reshape(1,-1), axis = 0)\n",
    "    train_targets_numpy = np.append(train_targets_numpy, train_targets_numpy[:num_original_samples], axis = 0)\n",
    "print('FeaturesNumpy Output shape after scaling')\n",
    "print(train_features_numpy.shape)\n",
    "print('TargetsNumpy Output shape after scaling')\n",
    "print(train_features_numpy.shape)"
   ]
  },
  {
   "cell_type": "markdown",
   "metadata": {},
   "source": [
    "### Magnitude Warping"
   ]
  },
  {
   "cell_type": "code",
   "execution_count": 6,
   "metadata": {},
   "outputs": [
    {
     "name": "stdout",
     "output_type": "stream",
     "text": [
      "FeaturesNumpy Output shape after magwarping\n",
      "(1340, 50000)\n",
      "TargetsNumpy Output shape after magwarping\n",
      "(1340,)\n"
     ]
    }
   ],
   "source": [
    "from scipy.interpolate import CubicSpline\n",
    "\n",
    "def GenerateRandomCurves(X, sigma=0.2, knot=4):\n",
    "    xx = (np.ones((X.shape[1],1))*(np.arange(0,X.shape[0], (X.shape[0]-1)/(knot+1)))).transpose()\n",
    "    yy = np.random.normal(loc=1.0, scale=sigma, size=(knot+2, X.shape[1]))\n",
    "    x_range = np.arange(X.shape[0])\n",
    "    cs_x = CubicSpline(xx[:,0], yy[:,0])\n",
    "    return np.array([cs_x(x_range)]).transpose()\n",
    "\n",
    "def DA_MagWarp(X, sigma):\n",
    "    return X * GenerateRandomCurves(X, sigma)\n",
    "\n",
    "sigma = np.linspace(.2,2,22)\n",
    "for j in sigma:\n",
    "    for i in range(num_original_samples):\n",
    "        train_features_numpy = np.append(train_features_numpy, DA_MagWarp(features_numpy_new[:,i].reshape(-1,1), j).reshape(1,-1), axis = 0)\n",
    "    train_targets_numpy = np.append(train_targets_numpy, train_targets_numpy[:num_original_samples], axis = 0)\n",
    "print('FeaturesNumpy Output shape after magwarping')\n",
    "print(train_features_numpy.shape)\n",
    "print('TargetsNumpy Output shape after magwarping')\n",
    "print(train_targets_numpy.shape)"
   ]
  },
  {
   "cell_type": "markdown",
   "metadata": {},
   "source": [
    "### Time Warping"
   ]
  },
  {
   "cell_type": "code",
   "execution_count": 7,
   "metadata": {
    "scrolled": true
   },
   "outputs": [
    {
     "name": "stdout",
     "output_type": "stream",
     "text": [
      "FeaturesNumpy Output shape after time warping\n",
      "(1700, 50000)\n",
      "TargetsNumpy Output shape after time warping\n",
      "(1700,)\n"
     ]
    }
   ],
   "source": [
    "#DATA AUGMENTATION\n",
    "#SINGLE KERNEL \n",
    "\n",
    "from scipy.interpolate import CubicSpline\n",
    "\n",
    "#perform time warping\n",
    "def GenerateRandomCurvesWithZ(X, sigma=0.2, knot=4):\n",
    "    xx = (np.ones((X.shape[1],1))*(np.arange(0,X.shape[0], (X.shape[0]-1)/(knot+1)))).transpose()\n",
    "    yy = np.random.normal(loc=1.0, scale=sigma, size=(knot+2, X.shape[1]))\n",
    "    x_range = np.arange(X.shape[0])\n",
    "    cs_x = CubicSpline(xx[:,0], yy[:,0])\n",
    "    cs_y = CubicSpline(xx[:,1], yy[:,1])\n",
    "    cs_z = CubicSpline(xx[:,2], yy[:,2])\n",
    "    return np.array([cs_x(x_range),cs_y(x_range),cs_z(x_range)]).transpose()\n",
    "\n",
    "def DistortTimesteps(X, sigma=0.2):\n",
    "    tt = GenerateRandomCurvesWithZ(X, sigma) # Regard these samples aroun 1 as time intervals\n",
    "    tt_cum = np.cumsum(tt, axis=0)        # Add intervals to make a cumulative graph\n",
    "    # Make the last value to have X.shape[0]    \n",
    "    t_scale = [(X.shape[0]-1)/tt_cum[-1,0],(X.shape[0]-1)/tt_cum[-1,1],(X.shape[0]-1)/tt_cum[-1,2]]\n",
    "    tt_cum[:,0] = tt_cum[:,0]*t_scale[0]\n",
    "    tt_cum[:,1] = tt_cum[:,1]*t_scale[1]\n",
    "    tt_cum[:,2] = tt_cum[:,2]*t_scale[2]\n",
    "    return tt_cum\n",
    "\n",
    "def DA_TimeWarp(X, sigma=0.2):\n",
    "    tt_new = DistortTimesteps(X, sigma)\n",
    "    X_new = np.zeros(X.shape)\n",
    "    x_range = np.arange(X.shape[0])\n",
    "    X_new[:,0] = np.interp(x_range, tt_new[:,0], X[:,0])\n",
    "    X_new[:,1] = np.interp(x_range, tt_new[:,1], X[:,1])\n",
    "    X_new[:,2] = np.interp(x_range, tt_new[:,2], X[:,2])\n",
    "    return X_new\n",
    "\n",
    "n_sets_time_warping = 1\n",
    "sigma = np.linspace(.1, 1, 20)\n",
    "upper_lim = num_original_samples-(num_original_samples%3)\n",
    "for j in sigma:\n",
    "    for i in range(0,upper_lim, 3):\n",
    "        ip = features_numpy_new[:,i:i+3]\n",
    "        time_warped_ip = DA_TimeWarp(ip, j).T\n",
    "        train_features_numpy = np.append(train_features_numpy, DA_TimeWarp(ip, j).T , axis = 0)\n",
    "    train_targets_numpy = np.concatenate((train_targets_numpy,train_targets_numpy[:upper_lim]), axis=None)\n",
    "print('FeaturesNumpy Output shape after time warping')\n",
    "print(train_features_numpy.shape)\n",
    "print('TargetsNumpy Output shape after time warping')\n",
    "print(train_targets_numpy.shape)"
   ]
  },
  {
   "cell_type": "markdown",
   "metadata": {},
   "source": [
    "### Save Full Dataset"
   ]
  },
  {
   "cell_type": "code",
   "execution_count": 8,
   "metadata": {},
   "outputs": [],
   "source": [
    "np.save(\"TrainData50KCrossCar.npy\", train_features_numpy)\n",
    "np.save(\"TrainLabels50KCrossCar.npy\", train_targets_numpy)\n",
    "np.save(\"TestData50KCrossCar.npy\", test_features_numpy)\n",
    "np.save(\"TestLabels50KCrossCar.npy\", test_targets_numpy)"
   ]
  },
  {
   "cell_type": "markdown",
   "metadata": {},
   "source": [
    "## Partition Validation Dataset For Training"
   ]
  },
  {
   "cell_type": "code",
   "execution_count": 31,
   "metadata": {},
   "outputs": [
    {
     "name": "stdout",
     "output_type": "stream",
     "text": [
      "Shape of Features Train Dataset\n",
      "torch.Size([1712, 50000])\n",
      "Shape of Targets Train Dataset\n",
      "torch.Size([1712])\n",
      "Shape of Features Validation Dataset\n",
      "torch.Size([428, 50000])\n",
      "Shape of Targets Validation Dataset\n",
      "torch.Size([428])\n",
      "Batch Size - Train: 107 Val: 107\n"
     ]
    }
   ],
   "source": [
    "from functools import reduce\n",
    "def factors(n):    \n",
    "    return set(reduce(list.__add__, \n",
    "                ([i, n//i] for i in range(1, int(n**0.5) + 1) if n % i == 0)))\n",
    "features_train, features_val, targets_train, targets_val = train_test_split(train_features_numpy,\n",
    "                                                                             train_targets_numpy,\n",
    "                                                                             test_size = 0.2,\n",
    "                                                                             random_state = 42)\n",
    "\n",
    "\n",
    "featuresTrain = torch.from_numpy(features_train).type(torch.FloatTensor)\n",
    "targetsTrain = torch.from_numpy(targets_train).type(torch.FloatTensor)\n",
    "featuresVal = torch.from_numpy(features_val).type(torch.FloatTensor)\n",
    "targetsVal = torch.from_numpy(targets_val).type(torch.FloatTensor)\n",
    "\n",
    "train = torch.utils.data.TensorDataset(featuresTrain,targetsTrain)\n",
    "val = torch.utils.data.TensorDataset(featuresVal,targetsVal)\n",
    "\n",
    "potential_batch_size_train = sorted(factors(features_train.shape[0]))\n",
    "potential_batch_size_val = sorted(factors(features_val.shape[0]))\n",
    "\n",
    "min_batch_train = 32\n",
    "min_batch_val = 20\n",
    "\n",
    "batch_size = potential_batch_size_train[np.argmax(np.asarray(potential_batch_size_train) >= min_batch_train )]\n",
    "batch_size_val = potential_batch_size_val[np.argmax(np.asarray(potential_batch_size_val) >= min_batch_val)]\n",
    "\n",
    "train_loader = torch.utils.data.DataLoader(train, batch_size = batch_size, shuffle = True)\n",
    "val_loader = torch.utils.data.DataLoader(val, batch_size = batch_size_val, shuffle = True)\n",
    "\n",
    "\n",
    "print('Shape of Features Train Dataset')\n",
    "print(featuresTrain.size())\n",
    "print('Shape of Targets Train Dataset')\n",
    "print(targetsTrain.size())\n",
    "print('Shape of Features Validation Dataset')\n",
    "print(featuresVal.size())\n",
    "print('Shape of Targets Validation Dataset')\n",
    "print(targetsVal.size())\n",
    "\n",
    "print(\"Batch Size - Train: {} Val: {}\".format(batch_size, batch_size_val))"
   ]
  },
  {
   "cell_type": "markdown",
   "metadata": {},
   "source": [
    "## Model Design"
   ]
  },
  {
   "cell_type": "code",
   "execution_count": 32,
   "metadata": {},
   "outputs": [
    {
     "data": {
      "text/plain": [
       "ConvNet(\n",
       "  (layer1): Sequential(\n",
       "    (0): Conv1d(1, 3, kernel_size=(25,), stride=(10,))\n",
       "    (1): ReLU()\n",
       "    (2): BatchNorm1d(3, eps=1e-05, momentum=0.1, affine=True, track_running_stats=True)\n",
       "  )\n",
       "  (avgLayer1): AvgPool1d(kernel_size=(5,), stride=(2,), padding=(0,))\n",
       "  (layer2): Sequential(\n",
       "    (0): Conv1d(3, 3, kernel_size=(10,), stride=(5,))\n",
       "    (1): ReLU()\n",
       "    (2): BatchNorm1d(3, eps=1e-05, momentum=0.1, affine=True, track_running_stats=True)\n",
       "  )\n",
       "  (layer3): Sequential(\n",
       "    (0): Conv1d(3, 3, kernel_size=(10,), stride=(3,))\n",
       "    (1): ReLU()\n",
       "    (2): BatchNorm1d(3, eps=1e-05, momentum=0.1, affine=True, track_running_stats=True)\n",
       "  )\n",
       "  (avgLayer2): AvgPool1d(kernel_size=(10,), stride=(2,), padding=(0,))\n",
       "  (drop_out): Dropout(p=0.3)\n",
       "  (fc1): Linear(in_features=231, out_features=2, bias=True)\n",
       ")"
      ]
     },
     "execution_count": 32,
     "metadata": {},
     "output_type": "execute_result"
    }
   ],
   "source": [
    "# class ConvNet(nn.Module):\n",
    "#     def __init__(self):\n",
    "#         super(ConvNet, self).__init__()\n",
    "#         self.layer1 = nn.Sequential(\n",
    "#             nn.Conv1d(in_channels = 1, out_channels = filters,kernel_size=1000, stride=10),\n",
    "#             nn.ReLU(),\n",
    "#             nn.BatchNorm1d(filters))\n",
    "#         self.layer2 = nn.Sequential(\n",
    "#             nn.Conv1d(in_channels = filters, out_channels = filters, kernel_size=101, stride=10),\n",
    "#             nn.ReLU(),\n",
    "#             nn.BatchNorm1d(filters))\n",
    "#         self.layer3 = nn.Sequential(\n",
    "#             nn.Conv1d(in_channels = filters, out_channels = filters, kernel_size=11, stride=5),\n",
    "#             nn.ReLU(),\n",
    "#             nn.BatchNorm1d(filters))\n",
    "#         self.avgLayer = nn.AvgPool1d(5, stride = 2)\n",
    "#         self.fc1 = nn.Linear(796,2)\n",
    "\n",
    "num_filters = 3\n",
    "class ConvNet(nn.Module):\n",
    "    def __init__(self):\n",
    "        super(ConvNet, self).__init__()\n",
    "        self.layer1 = nn.Sequential(\n",
    "            nn.Conv1d(in_channels = 1, out_channels = num_filters,kernel_size=25, stride=10),\n",
    "            nn.ReLU(),\n",
    "            nn.BatchNorm1d(num_filters))\n",
    "        self.avgLayer1 = nn.AvgPool1d(5, stride = 2)\n",
    "        self.layer2 = nn.Sequential(\n",
    "            nn.Conv1d(in_channels = num_filters, out_channels = num_filters, kernel_size=10, stride=5),\n",
    "            nn.ReLU(),\n",
    "            nn.BatchNorm1d(num_filters))\n",
    "        self.layer3 = nn.Sequential(\n",
    "            nn.Conv1d(in_channels = num_filters, out_channels = num_filters, kernel_size=10, stride=3),\n",
    "            nn.ReLU(),\n",
    "            nn.BatchNorm1d(num_filters))\n",
    "        self.avgLayer2 = nn.AvgPool1d(10, stride = 2)\n",
    "        self.drop_out = nn.Dropout(.3)\n",
    "        self.fc1 = nn.Linear(231,2)\n",
    "\n",
    "\n",
    "    def forward(self, x):\n",
    "        out = self.layer1(x)\n",
    "        out = self.avgLayer1(out)\n",
    "        out = self.layer2(out)\n",
    "        out = self.layer3(out) \n",
    "        out = self.avgLayer2(out)\n",
    "        out = self.drop_out(out)\n",
    "        out = out.view(out.size(0), -1)\n",
    "        out = self.fc1(out)\n",
    "        return out\n",
    "\n",
    "    def init_hidden(self,batch_size):\n",
    "        hidden = torch.zeros(self.n_layers, batch_size, self.hidden_size)\n",
    "        return Variable(hidden)\n",
    "    \n",
    "    \n",
    "def weights_init(m):\n",
    "    if isinstance(m, nn.Conv1d):\n",
    "        torch.nn.init.xavier_uniform(m.weight.data, nn.init.calculate_gain('relu'))\n",
    "        m.bias.data.zero_()\n",
    "    \n",
    "\n",
    "model = ConvNet()\n",
    "optimizer = optim.SGD(model.parameters(), lr=0.1)\n",
    "criterion = nn.CrossEntropyLoss()\n",
    "model"
   ]
  },
  {
   "cell_type": "markdown",
   "metadata": {},
   "source": [
    "## Model Training"
   ]
  },
  {
   "cell_type": "code",
   "execution_count": 33,
   "metadata": {
    "scrolled": true
   },
   "outputs": [
    {
     "name": "stderr",
     "output_type": "stream",
     "text": [
      "/home/mharisha/.local/lib/python3.7/site-packages/ipykernel_launcher.py:59: UserWarning: nn.init.xavier_uniform is now deprecated in favor of nn.init.xavier_uniform_.\n"
     ]
    },
    {
     "name": "stdout",
     "output_type": "stream",
     "text": [
      "Current Epoch: 0\n",
      "Iteration: 1 Loss: 0.40409716963768005 Accuracy: 72 %\n",
      "Current Epoch: 1\n",
      "Iteration: 2 Loss: 0.30474165081977844 Accuracy: 91 %\n",
      "Current Epoch: 2\n",
      "Iteration: 3 Loss: 0.24993309378623962 Accuracy: 94 %\n",
      "Current Epoch: 3\n",
      "Iteration: 4 Loss: 0.23556120693683624 Accuracy: 94 %\n",
      "Current Epoch: 4\n",
      "Iteration: 5 Loss: 0.13631726801395416 Accuracy: 95 %\n",
      "Current Epoch: 5\n",
      "Iteration: 6 Loss: 0.22912351787090302 Accuracy: 95 %\n",
      "Current Epoch: 6\n",
      "Iteration: 7 Loss: 0.22845293581485748 Accuracy: 95 %\n",
      "Current Epoch: 7\n",
      "Iteration: 8 Loss: 0.16766788065433502 Accuracy: 95 %\n",
      "Current Epoch: 8\n",
      "Iteration: 9 Loss: 0.14783276617527008 Accuracy: 94 %\n",
      "Current Epoch: 9\n",
      "Iteration: 10 Loss: 0.1487005203962326 Accuracy: 95 %\n",
      "Current Epoch: 10\n",
      "Iteration: 11 Loss: 0.12006901949644089 Accuracy: 96 %\n",
      "Current Epoch: 11\n",
      "Iteration: 12 Loss: 0.14555266499519348 Accuracy: 96 %\n",
      "Current Epoch: 12\n",
      "Iteration: 13 Loss: 0.07630205899477005 Accuracy: 94 %\n",
      "Current Epoch: 13\n",
      "Iteration: 14 Loss: 0.13553304970264435 Accuracy: 95 %\n",
      "Current Epoch: 14\n",
      "Iteration: 15 Loss: 0.09176944941282272 Accuracy: 96 %\n",
      "Current Epoch: 15\n",
      "Iteration: 16 Loss: 0.21423985064029694 Accuracy: 96 %\n",
      "Current Epoch: 16\n",
      "Iteration: 17 Loss: 0.17590570449829102 Accuracy: 94 %\n",
      "Current Epoch: 17\n",
      "Iteration: 18 Loss: 0.14275415241718292 Accuracy: 95 %\n",
      "Current Epoch: 18\n",
      "Iteration: 19 Loss: 0.07716041803359985 Accuracy: 96 %\n",
      "Current Epoch: 19\n",
      "Iteration: 20 Loss: 0.10937321186065674 Accuracy: 96 %\n",
      "Current Epoch: 20\n",
      "Iteration: 21 Loss: 0.09398330003023148 Accuracy: 97 %\n",
      "Current Epoch: 21\n",
      "Iteration: 22 Loss: 0.09276816248893738 Accuracy: 95 %\n",
      "Current Epoch: 22\n",
      "Iteration: 23 Loss: 0.11834610998630524 Accuracy: 96 %\n",
      "Current Epoch: 23\n",
      "Iteration: 24 Loss: 0.10831502825021744 Accuracy: 96 %\n",
      "Current Epoch: 24\n",
      "Iteration: 25 Loss: 0.10202266275882721 Accuracy: 96 %\n",
      "Current Epoch: 25\n",
      "Iteration: 26 Loss: 0.09721948206424713 Accuracy: 96 %\n",
      "Current Epoch: 26\n",
      "Iteration: 27 Loss: 0.12301203608512878 Accuracy: 96 %\n",
      "Current Epoch: 27\n",
      "Iteration: 28 Loss: 0.08633624017238617 Accuracy: 97 %\n",
      "Current Epoch: 28\n",
      "Iteration: 29 Loss: 0.13937672972679138 Accuracy: 96 %\n",
      "Current Epoch: 29\n",
      "Iteration: 30 Loss: 0.1003798097372055 Accuracy: 96 %\n",
      "Current Epoch: 30\n",
      "Iteration: 31 Loss: 0.10390781611204147 Accuracy: 96 %\n",
      "Current Epoch: 31\n",
      "Iteration: 32 Loss: 0.08355455100536346 Accuracy: 96 %\n",
      "Current Epoch: 32\n",
      "Iteration: 33 Loss: 0.1023264229297638 Accuracy: 96 %\n",
      "Current Epoch: 33\n",
      "Iteration: 34 Loss: 0.10509826987981796 Accuracy: 96 %\n",
      "Current Epoch: 34\n",
      "Iteration: 35 Loss: 0.0838906317949295 Accuracy: 97 %\n",
      "Current Epoch: 35\n",
      "Iteration: 36 Loss: 0.11093965172767639 Accuracy: 91 %\n",
      "Current Epoch: 36\n",
      "Iteration: 37 Loss: 0.13764062523841858 Accuracy: 97 %\n",
      "Current Epoch: 37\n",
      "Iteration: 38 Loss: 0.08704779297113419 Accuracy: 94 %\n",
      "Current Epoch: 38\n",
      "Iteration: 39 Loss: 0.04131408780813217 Accuracy: 97 %\n",
      "Current Epoch: 39\n",
      "Iteration: 40 Loss: 0.07016634196043015 Accuracy: 97 %\n",
      "Current Epoch: 40\n",
      "Iteration: 41 Loss: 0.08696359395980835 Accuracy: 97 %\n",
      "Current Epoch: 41\n",
      "Iteration: 42 Loss: 0.08479372411966324 Accuracy: 95 %\n",
      "Current Epoch: 42\n",
      "Iteration: 43 Loss: 0.08215313404798508 Accuracy: 95 %\n",
      "Current Epoch: 43\n",
      "Iteration: 44 Loss: 0.09354869276285172 Accuracy: 97 %\n",
      "Current Epoch: 44\n",
      "Iteration: 45 Loss: 0.14463092386722565 Accuracy: 95 %\n",
      "Current Epoch: 45\n",
      "Iteration: 46 Loss: 0.06562869250774384 Accuracy: 96 %\n",
      "Current Epoch: 46\n",
      "Iteration: 47 Loss: 0.04144827276468277 Accuracy: 94 %\n",
      "Current Epoch: 47\n",
      "Iteration: 48 Loss: 0.0696200504899025 Accuracy: 96 %\n",
      "Current Epoch: 48\n",
      "Iteration: 49 Loss: 0.059440337121486664 Accuracy: 96 %\n",
      "Current Epoch: 49\n",
      "Iteration: 50 Loss: 0.0665561631321907 Accuracy: 97 %\n",
      "Current Epoch: 50\n",
      "Iteration: 51 Loss: 0.2936428189277649 Accuracy: 96 %\n",
      "Current Epoch: 51\n",
      "Iteration: 52 Loss: 0.07332783192396164 Accuracy: 97 %\n",
      "Current Epoch: 52\n",
      "Iteration: 53 Loss: 0.11502937972545624 Accuracy: 97 %\n",
      "Current Epoch: 53\n",
      "Iteration: 54 Loss: 0.06860088557004929 Accuracy: 96 %\n",
      "Current Epoch: 54\n",
      "Iteration: 55 Loss: 0.11339269578456879 Accuracy: 96 %\n",
      "Current Epoch: 55\n",
      "Iteration: 56 Loss: 0.03527284041047096 Accuracy: 96 %\n",
      "Current Epoch: 56\n",
      "Iteration: 57 Loss: 0.3237418532371521 Accuracy: 96 %\n",
      "Current Epoch: 57\n",
      "Iteration: 58 Loss: 0.05233167111873627 Accuracy: 96 %\n",
      "Current Epoch: 58\n",
      "Iteration: 59 Loss: 0.16860361397266388 Accuracy: 97 %\n",
      "Current Epoch: 59\n",
      "Iteration: 60 Loss: 0.06692617386579514 Accuracy: 96 %\n",
      "Current Epoch: 60\n",
      "Iteration: 61 Loss: 0.07611116766929626 Accuracy: 96 %\n",
      "Current Epoch: 61\n",
      "Iteration: 62 Loss: 0.11782191693782806 Accuracy: 97 %\n",
      "Current Epoch: 62\n",
      "Iteration: 63 Loss: 0.10083179920911789 Accuracy: 97 %\n",
      "Current Epoch: 63\n",
      "Iteration: 64 Loss: 0.09165383130311966 Accuracy: 96 %\n",
      "Current Epoch: 64\n",
      "Iteration: 65 Loss: 0.056018974632024765 Accuracy: 96 %\n",
      "Current Epoch: 65\n",
      "Iteration: 66 Loss: 0.0678224042057991 Accuracy: 96 %\n",
      "Current Epoch: 66\n",
      "Iteration: 67 Loss: 0.0701531171798706 Accuracy: 96 %\n",
      "Current Epoch: 67\n",
      "Iteration: 68 Loss: 0.1294483095407486 Accuracy: 95 %\n",
      "Current Epoch: 68\n",
      "Iteration: 69 Loss: 0.16260536015033722 Accuracy: 96 %\n",
      "Current Epoch: 69\n",
      "Iteration: 70 Loss: 0.08013579249382019 Accuracy: 97 %\n",
      "Current Epoch: 70\n",
      "Iteration: 71 Loss: 0.10114265978336334 Accuracy: 96 %\n",
      "Current Epoch: 71\n",
      "Iteration: 72 Loss: 0.048516396433115005 Accuracy: 96 %\n",
      "Current Epoch: 72\n",
      "Iteration: 73 Loss: 0.12758764624595642 Accuracy: 96 %\n",
      "Current Epoch: 73\n",
      "Iteration: 74 Loss: 0.0781606063246727 Accuracy: 96 %\n",
      "Current Epoch: 74\n",
      "Iteration: 75 Loss: 0.05747649073600769 Accuracy: 96 %\n",
      "Current Epoch: 75\n",
      "Iteration: 76 Loss: 0.13374866545200348 Accuracy: 80 %\n",
      "Current Epoch: 76\n",
      "Iteration: 77 Loss: 0.17069664597511292 Accuracy: 95 %\n",
      "Current Epoch: 77\n",
      "Iteration: 78 Loss: 0.05260803550481796 Accuracy: 97 %\n",
      "Current Epoch: 78\n",
      "Iteration: 79 Loss: 0.137885183095932 Accuracy: 94 %\n",
      "Current Epoch: 79\n",
      "Iteration: 80 Loss: 0.05838080123066902 Accuracy: 95 %\n",
      "Current Epoch: 80\n",
      "Iteration: 81 Loss: 0.08069571107625961 Accuracy: 97 %\n",
      "Current Epoch: 81\n",
      "Iteration: 82 Loss: 0.03883568197488785 Accuracy: 97 %\n",
      "Current Epoch: 82\n",
      "Iteration: 83 Loss: 0.10144484788179398 Accuracy: 96 %\n",
      "Current Epoch: 83\n",
      "Iteration: 84 Loss: 0.047908008098602295 Accuracy: 97 %\n",
      "Current Epoch: 84\n",
      "Iteration: 85 Loss: 0.045076943933963776 Accuracy: 96 %\n",
      "Current Epoch: 85\n",
      "Iteration: 86 Loss: 0.09016698598861694 Accuracy: 94 %\n",
      "Current Epoch: 86\n",
      "Iteration: 87 Loss: 0.054414838552474976 Accuracy: 96 %\n",
      "Current Epoch: 87\n",
      "Iteration: 88 Loss: 0.061258748173713684 Accuracy: 97 %\n",
      "Current Epoch: 88\n",
      "Iteration: 89 Loss: 0.0465133972465992 Accuracy: 96 %\n",
      "Current Epoch: 89\n",
      "Iteration: 90 Loss: 0.05612402781844139 Accuracy: 96 %\n",
      "Current Epoch: 90\n",
      "Iteration: 91 Loss: 0.08886308968067169 Accuracy: 96 %\n",
      "Current Epoch: 91\n",
      "Iteration: 92 Loss: 0.03618527948856354 Accuracy: 96 %\n",
      "Current Epoch: 92\n",
      "Iteration: 93 Loss: 0.06046943739056587 Accuracy: 95 %\n",
      "Current Epoch: 93\n",
      "Iteration: 94 Loss: 0.0346684604883194 Accuracy: 96 %\n",
      "Current Epoch: 94\n",
      "Iteration: 95 Loss: 0.06426723301410675 Accuracy: 96 %\n",
      "Current Epoch: 95\n",
      "Iteration: 96 Loss: 0.0728655681014061 Accuracy: 96 %\n",
      "Current Epoch: 96\n",
      "Iteration: 97 Loss: 0.10913237184286118 Accuracy: 96 %\n",
      "Current Epoch: 97\n",
      "Iteration: 98 Loss: 0.1539699286222458 Accuracy: 96 %\n",
      "Current Epoch: 98\n",
      "Iteration: 99 Loss: 0.029621869325637817 Accuracy: 96 %\n",
      "Current Epoch: 99\n",
      "Iteration: 100 Loss: 0.06257926672697067 Accuracy: 96 %\n"
     ]
    },
    {
     "data": {
      "text/plain": [
       "[<matplotlib.lines.Line2D at 0x7f03d4feabe0>]"
      ]
     },
     "execution_count": 33,
     "metadata": {},
     "output_type": "execute_result"
    },
    {
     "data": {
      "image/png": "[encoded data removed]",
      "text/plain": [
       "<Figure size 432x288 with 2 Axes>"
      ]
     },
     "metadata": {
      "needs_background": "light"
     },
     "output_type": "display_data"
    }
   ],
   "source": [
    "model.apply(weights_init)\n",
    "num_epochs = 100\n",
    "count = 0\n",
    "loss_list = []\n",
    "iteration_list = []\n",
    "accuracy_list = []\n",
    "n_classes = 2\n",
    "\n",
    "for epoch in range(num_epochs):\n",
    "    print('Current Epoch: {}'.format(epoch))\n",
    "    for i, (samples, targets) in enumerate(train_loader):\n",
    "        train = Variable(samples.view(batch_size,1,-1))\n",
    "        targets = Variable(targets.type(torch.LongTensor))\n",
    "        # Clear gradients\n",
    "        optimizer.zero_grad()\n",
    "        #setting up model for training\n",
    "        model.train()\n",
    "        # Forward propagation\n",
    "        outputs = model(train)\n",
    "        outputs = outputs.reshape(batch_size,2)\n",
    "        # Calculate softmax and cross entropy loss\n",
    "        loss = criterion(outputs, targets)\n",
    "        # Calculating gradients\n",
    "        loss.backward()\n",
    "        # Update parameters\n",
    "        optimizer.step()\n",
    "    count += 1\n",
    "    #accuracy at the end of epoch    \n",
    "    correct = 0\n",
    "    total = 0\n",
    "    # Predict test dataset\n",
    "    for samples, labels in val_loader:\n",
    "        test = Variable(samples.view(batch_size_val,1,-1))\n",
    "        #setting up in test mode\n",
    "        model.eval()\n",
    "        # Forward propagation\n",
    "        outputs = model(test)\n",
    "        outputs = outputs.view(batch_size_val, n_classes)\n",
    "        # Get predictions from the maximum value\n",
    "        predicted = torch.max(outputs.data, 1)[1].type(torch.FloatTensor)\n",
    "        # Total number of labels\n",
    "        total += len(labels)\n",
    "        # Total correct predictions\n",
    "        correct += (predicted == labels).sum()\n",
    "    accuracy = 100 * correct / float(total)\n",
    "    loss_list.append(loss.data)\n",
    "    iteration_list.append(count)\n",
    "    accuracy_list.append(accuracy)\n",
    "\n",
    "    print('Iteration: {} Loss: {} Accuracy: {} %'.format(count, loss.data.item(), accuracy))\n",
    "\n",
    "plt.subplot(2,1,1)\n",
    "plt.title('Final Loss curve')\n",
    "plt.plot(loss_list)\n",
    "plt.subplot(2,1,2)\n",
    "plt.title('Final Validation Curve')\n",
    "plt.plot(accuracy_list)"
   ]
  },
  {
   "cell_type": "markdown",
   "metadata": {},
   "source": [
    "## Model Testing"
   ]
  },
  {
   "cell_type": "code",
   "execution_count": 34,
   "metadata": {
    "scrolled": false
   },
   "outputs": [
    {
     "name": "stdout",
     "output_type": "stream",
     "text": [
      "Testing dataset dimensions\n",
      "Shape of Features Dataset\n",
      "torch.Size([20, 50000])\n",
      "Shape of Targets Dataset\n",
      "torch.Size([20])\n",
      "Batch Size: 20\n"
     ]
    }
   ],
   "source": [
    "# import matplotlib.pyplot as plt\n",
    "# import copy\n",
    "# sample_size = 1\n",
    "# fig, ax = plt.subplots(2, 8, sharex=True, sharey=True)\n",
    "# for i in range(test_features_numpy.shape[0]):\n",
    "#     startNum = np.random.randint(range_len-sample_size)\n",
    "#     sub_test_features_numpy = copy.deepcopy(test_features_numpy)\n",
    "#     sub_test_features_numpy[i][:startNum] = [0]\n",
    "#     sub_test_features_numpy[startNum + sample_size:] = [0]\n",
    "    \n",
    "#     ax[0][i].plot(np.arange(sample_size),sub_test_features_numpy[i][startNum:startNum+sample_size])\n",
    "#     ax[1][i].plot(np.arange(range_len),test_features_numpy[i][:])\n",
    "\n",
    "test_features = torch.from_numpy(test_features_numpy).type(torch.FloatTensor)\n",
    "test_targets = torch.from_numpy(test_targets_numpy).type(torch.FloatTensor)\n",
    "test_totalDataset = torch.utils.data.TensorDataset(test_features,test_targets)\n",
    "batch_size_test = test_features_numpy.shape[0]\n",
    "test_loader = torch.utils.data.DataLoader(test_totalDataset, batch_size = batch_size_test, shuffle = True)\n",
    "\n",
    "\n",
    "print('Testing dataset dimensions')\n",
    "print('Shape of Features Dataset')\n",
    "print(test_features.size())\n",
    "print('Shape of Targets Dataset')\n",
    "print(test_targets.size())\n",
    "print(\"Batch Size: {}\".format(batch_size_test))"
   ]
  },
  {
   "cell_type": "code",
   "execution_count": 35,
   "metadata": {},
   "outputs": [
    {
     "name": "stdout",
     "output_type": "stream",
     "text": [
      "[[9 1]\n",
      " [3 7]]\n",
      "Accuracy Score: 80.0\n",
      "F1 Score: 77.77777777777777\n",
      "Precision Score: 87.5\n",
      "Recall Score: 70.0\n"
     ]
    }
   ],
   "source": [
    "from sklearn.metrics import confusion_matrix\n",
    "from sklearn.metrics import precision_score\n",
    "from sklearn.metrics import recall_score\n",
    "from sklearn.metrics import accuracy_score\n",
    "from sklearn.metrics import f1_score\n",
    "\n",
    "accuracy_list = []\n",
    "f1_score_list = []\n",
    "precision_list = []\n",
    "recall_list = []\n",
    "y_pred =[]\n",
    "y_true = []\n",
    "with torch.no_grad():\n",
    "    for i, data in enumerate(test_loader):\n",
    "            samples, labels = data\n",
    "            samples = Variable(samples.view(batch_size_test,1,-1))\n",
    "            \n",
    "            model.eval()\n",
    "            \n",
    "            outputs = model(samples)\n",
    "            outputs = outputs.view(batch_size_test, n_classes)\n",
    "            \n",
    "            predictions = torch.argmax(outputs, 1)\n",
    "            targets = labels\n",
    "            \n",
    "            y_pred.extend(predictions)\n",
    "            y_true.extend(targets)\n",
    "\n",
    "\n",
    "\n",
    "conf_matrix = confusion_matrix(y_true, y_pred)\n",
    "print(conf_matrix)\n",
    "print(\"Accuracy Score: {}\".format(accuracy_score(y_true, y_pred) * 100))\n",
    "print(\"F1 Score: {}\". format(f1_score(y_true, y_pred) * 100))\n",
    "print(\"Precision Score: {}\".format(precision_score(y_true, y_pred) * 100))\n",
    "print(\"Recall Score: {}\".format(recall_score(y_true, y_pred)* 100))"
   ]
  },
  {
   "cell_type": "markdown",
   "metadata": {},
   "source": [
    "## Debug - Visualizing Test vs Train Data"
   ]
  },
  {
   "cell_type": "code",
   "execution_count": 19,
   "metadata": {
    "scrolled": true
   },
   "outputs": [
    {
     "data": {
      "image/png": "[encoded data removed]",
      "text/plain": [
       "<Figure size 432x288 with 20 Axes>"
      ]
     },
     "metadata": {
      "needs_background": "light"
     },
     "output_type": "display_data"
    }
   ],
   "source": [
    "import matplotlib.pyplot as plt\n",
    "fig, ax = plt.subplots(2, 10, sharex=True, sharey=True)\n",
    "\n",
    "for i in range(10):\n",
    "        ax[0][i].plot(np.arange(50000),test_features_numpy[i+10,:])\n",
    "for i in range(10):\n",
    "        ax[1][i].plot(np.arange(50000),train_features_numpy[i+10,:])"
   ]
  }
 ],
 "metadata": {
  "kernelspec": {
   "display_name": "Python 3",
   "language": "python",
   "name": "python3"
  },
  "language_info": {
   "codemirror_mode": {
    "name": "ipython",
    "version": 3
   },
   "file_extension": ".py",
   "mimetype": "text/x-python",
   "name": "python",
   "nbconvert_exporter": "python",
   "pygments_lexer": "ipython3",
   "version": "3.7.1"
  },
  "varInspector": {
   "cols": {
    "lenName": 16,
    "lenType": 16,
    "lenVar": 40
   },
   "kernels_config": {
    "python": {
     "delete_cmd_postfix": "",
     "delete_cmd_prefix": "del ",
     "library": "var_list.py",
     "varRefreshCmd": "print(var_dic_list())"
    },
    "r": {
     "delete_cmd_postfix": ") ",
     "delete_cmd_prefix": "rm(",
     "library": "var_list.r",
     "varRefreshCmd": "cat(var_dic_list()) "
    }
   },
   "types_to_exclude": [
    "module",
    "function",
    "builtin_function_or_method",
    "instance",
    "_Feature"
   ],
   "window_display": false
  }
 },
 "nbformat": 4,
 "nbformat_minor": 2
}
